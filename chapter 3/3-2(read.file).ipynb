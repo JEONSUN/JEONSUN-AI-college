{
 "cells": [
  {
   "cell_type": "markdown",
   "metadata": {},
   "source": [
    "### 영어 단어모음으로 시작하는 데이터 시각화"
   ]
  },
  {
   "cell_type": "markdown",
   "metadata": {},
   "source": [
    "#### 파일 다루기\n",
    "\n",
    "**open()**을 이용하면 지정한 파일 이름에 해당하는 파일을 열고, 읽거나 수정할 수 있습니다.\n",
    "~~~python\n",
    "# 파일 열기\n",
    "file = open(\"data.txt\")\n",
    "\n",
    "# 파일 불러오기\n",
    "content = file.read()\n",
    "\n",
    "# 파일 닫기\n",
    "file.close()\n",
    "~~~"
   ]
  },
  {
   "cell_type": "markdown",
   "metadata": {},
   "source": [
    "#### 파일 자동으로 닫기(with...as)\n",
    "\n",
    "data를 file로 불러 들이겠다.!\n",
    "~~~ python\n",
    "# with~ as~ 를 사용해서 불러올 수 있다.\n",
    "\n",
    "with open('data.txt') as file :\n",
    "    content = file.read()\n",
    "\n",
    "# file.close()- 필요가 없다\n",
    "~~~\n",
    "들여쓰기가 끝나면 파일은 자동으로 닫힌다."
   ]
  },
  {
   "cell_type": "markdown",
   "metadata": {},
   "source": [
    "#### 줄 단위로 읽기\n",
    "\n",
    "~~~python\n",
    "# 빈 리스트 생성\n",
    "contents = []\n",
    "# data이름을 file이라고 해라\n",
    "with open('data.txt') as file :\n",
    "# 각 줄의 내용이 line에 담김\n",
    "# 만약에 파일 첫줄이 hello 다음줄이 elice일 경우\n",
    "# hello와 elice가 각각의 line이 된다\n",
    "    for line in file :\n",
    "        content.append(line)\n",
    "~~~\n"
   ]
  },
  {
   "cell_type": "markdown",
   "metadata": {},
   "source": [
    "#### file의 모드\n",
    "\n",
    "쓰기(write)모드로 파일을 연다, 이때 **'w'**라는 새로운 키워드를 넣는다.\n",
    "\n",
    "'w' : write의 줄임말\n",
    "\n",
    "~~~python\n",
    "with open('data.txt', 'w') as file :\n",
    "    file.write('Hello')\n",
    "~~~"
   ]
  },
  {
   "cell_type": "markdown",
   "metadata": {},
   "source": [
    "### 데이터 구조 다루기\n",
    "\n",
    "#### 튜플(tuple)\n",
    "\n",
    "- ()를 사용하여 입력\n",
    "~~~python\n",
    "hello = ('안녕하세요', 'hello', 'bonjour')\n",
    "~~~"
   ]
  },
  {
   "cell_type": "markdown",
   "metadata": {},
   "source": [
    "### 튜플 vs 리스트\n",
    "\n",
    "#### 공통점\n",
    "\n",
    "- 순서가 있는 원소들의 집합\n",
    "\n",
    "#### 차이점\n",
    "\n",
    "- 각 원소의 값을 수정할 수 없음.\n",
    "- 원소의 개수를 바꿀 수 없음."
   ]
  },
  {
   "cell_type": "markdown",
   "metadata": {},
   "source": [
    "### 리스트 변형\n",
    "\n",
    "- 리스트는 리스트 내의 값을 바꾸거나 추가하는게 가능하다.\n",
    "\n",
    "\n",
    "- 튜플은 hello를 직접 바꿔주지 않는 이상 **변형이 불가능하다.**"
   ]
  },
  {
   "cell_type": "code",
   "execution_count": 4,
   "metadata": {},
   "outputs": [
    {
     "name": "stdout",
     "output_type": "stream",
     "text": [
      "['안녕', 'hello', 'bonjour']\n",
      "['안녕', 'hello', 'bonjour', 'ni hao']\n"
     ]
    }
   ],
   "source": [
    "hello = ['안녕하세요', 'hello', 'bonjour']\n",
    "\n",
    "hello[0] = '안녕'\n",
    "print(hello)\n",
    "\n",
    "hello.append('ni hao')\n",
    "print(hello)"
   ]
  },
  {
   "cell_type": "markdown",
   "metadata": {},
   "source": [
    "### 리스트로 리스트 만들기(List Comprehension)\n",
    "\n",
    "- 코드를 더 간결하게 만들 수 있다.\n",
    "\n",
    "- 줄 수를 줄일 것인가 한 줄을 줄일 것인가 상황별로 선택할 것."
   ]
  },
  {
   "cell_type": "code",
   "execution_count": 6,
   "metadata": {},
   "outputs": [
    {
     "name": "stdout",
     "output_type": "stream",
     "text": [
      "['l', 'l', 'f']\n"
     ]
    }
   ],
   "source": [
    "# 기존의 코드\n",
    "words = ['life', 'love', 'faith']\n",
    "\n",
    "first_letters = []\n",
    "\n",
    "for word in words :\n",
    "    first_letters.append(word[0])\n",
    "\n",
    "print(first_letters)"
   ]
  },
  {
   "cell_type": "code",
   "execution_count": 8,
   "metadata": {},
   "outputs": [
    {
     "name": "stdout",
     "output_type": "stream",
     "text": [
      "['l', 'l', 'f']\n"
     ]
    }
   ],
   "source": [
    "# 리스트 내에 리스트\n",
    "words = ['life', 'love', 'faith']\n",
    "\n",
    "first_letters = [word[0] for word in words]\n",
    "print(first_letters)"
   ]
  },
  {
   "cell_type": "code",
   "execution_count": 10,
   "metadata": {},
   "outputs": [
    {
     "name": "stdout",
     "output_type": "stream",
     "text": [
      "[2, 4, 6, 8]\n"
     ]
    }
   ],
   "source": [
    "numbers = [1,3,5,7]\n",
    "\n",
    "new_numbers = []\n",
    "\n",
    "for n in numbers :\n",
    "    new_numbers.append(n + 1)\n",
    "print(new_numbers)"
   ]
  },
  {
   "cell_type": "code",
   "execution_count": 11,
   "metadata": {},
   "outputs": [
    {
     "name": "stdout",
     "output_type": "stream",
     "text": [
      "[2, 4, 6, 8]\n"
     ]
    }
   ],
   "source": [
    "numbers = [1,3,5,7]\n",
    "\n",
    "new_numbers = [n + 1 for n in numbers]\n",
    "print(new_numbers)"
   ]
  },
  {
   "cell_type": "markdown",
   "metadata": {},
   "source": [
    "### 특정 원소 걸러내기"
   ]
  },
  {
   "cell_type": "code",
   "execution_count": 13,
   "metadata": {},
   "outputs": [
    {
     "name": "stdout",
     "output_type": "stream",
     "text": [
      "[5, 7]\n"
     ]
    }
   ],
   "source": [
    "# 짝수 걸러내기\n",
    "\n",
    "numbers = [1,3,4,5,6,7]\n",
    "\n",
    "even = []\n",
    "for n in numbers :\n",
    "    if n % 2 == 0 :\n",
    "        even.append(n + 1)\n",
    "print(even)"
   ]
  },
  {
   "cell_type": "code",
   "execution_count": 15,
   "metadata": {},
   "outputs": [
    {
     "name": "stdout",
     "output_type": "stream",
     "text": [
      "[4, 6]\n"
     ]
    }
   ],
   "source": [
    "# 많이 섞으면 섞을수록 의도와 달라질 수 있다.\n",
    "numbers = [1,3,4,5,6,7]\n",
    "even = [n for n in numbers if n % 2 == 0]\n",
    "\n",
    "print(even)"
   ]
  },
  {
   "cell_type": "markdown",
   "metadata": {},
   "source": [
    "#### 한 줄 명령어로 데이터 다루기"
   ]
  },
  {
   "cell_type": "code",
   "execution_count": 1,
   "metadata": {},
   "outputs": [
    {
     "name": "stdout",
     "output_type": "stream",
     "text": [
      "['apple', 'alpha']\n"
     ]
    }
   ],
   "source": [
    "#리스트 생성\n",
    "words = [\n",
    "    'apple',\n",
    "    'banana',\n",
    "    'alpha',\n",
    "    'bravo',\n",
    "    'cherry',\n",
    "    'charlie',\n",
    "]\n",
    "\n",
    "# prefix로 시작하는 단어 추출 \n",
    "def filter_by_prefix(words, prefix):\n",
    "    return [word for word in words if word.startswith(prefix)]\n",
    "\n",
    "# 'a'로 시작하는 단어 추출\n",
    "a_words = filter_by_prefix(words, 'a')\n",
    "print(a_words)"
   ]
  },
  {
   "cell_type": "markdown",
   "metadata": {},
   "source": [
    "### 데이터 정렬하기"
   ]
  },
  {
   "cell_type": "code",
   "execution_count": 5,
   "metadata": {},
   "outputs": [
    {
     "name": "stdout",
     "output_type": "stream",
     "text": [
      "[-4, -1, 3, 5, 6, 100]\n"
     ]
    }
   ],
   "source": [
    "numbers = [-1, 3, -4, 5, 6, 100]\n",
    "sort_numbers = sorted(numbers)\n",
    "print(sort_numbers)"
   ]
  },
  {
   "cell_type": "code",
   "execution_count": 4,
   "metadata": {},
   "outputs": [
    {
     "name": "stdout",
     "output_type": "stream",
     "text": [
      "[-1, 3, -4, 5, 6, 100]\n"
     ]
    }
   ],
   "source": [
    "# 절대값으로 정렬하기\n",
    "numbers = [-1, 3, -4, 5, 6, 100]\n",
    "sort_by_abs = sorted(numbers, key = abs)\n",
    "print(sort_by_abs)"
   ]
  },
  {
   "cell_type": "code",
   "execution_count": 6,
   "metadata": {},
   "outputs": [
    {
     "name": "stdout",
     "output_type": "stream",
     "text": [
      "['apple', 'banana', 'cherry']\n"
     ]
    }
   ],
   "source": [
    "fruits = ['cherry', 'apple', 'banana']\n",
    "sort_by_alphabet = sorted(fruits)\n",
    "print(sort_by_alphabet)"
   ]
  },
  {
   "cell_type": "code",
   "execution_count": 8,
   "metadata": {
    "scrolled": true
   },
   "outputs": [
    {
     "name": "stdout",
     "output_type": "stream",
     "text": [
      "['cherry', 'apple', 'banana']\n"
     ]
    }
   ],
   "source": [
    "# \"apple\"이 들어갈시 \"elppa\"를 만들어주는 함수 생성\n",
    "def reverse(word) :\n",
    "    return str(reversed(word))\n",
    "\n",
    "# 앞서 만든 함수를 통해'yrr~', 'elppa', 'ananab'가 생성\n",
    "# a,e,y순으로 정렬후 reverse시킴\n",
    "fruits = ['cherry', 'apple', 'banana']\n",
    "sort_by_last = sorted(fruits, key = reverse)\n",
    "print(sort_by_last)"
   ]
  },
  {
   "cell_type": "code",
   "execution_count": null,
   "metadata": {},
   "outputs": [],
   "source": [
    "# (단어,빈도수) 형식을 가진 튜플의 리스트 생성\n",
    "pairs = [\n",
    "    ('time', 8),\n",
    "    ('the', 15),\n",
    "    ('turbo', 1),\n",
    "]\n",
    "# 빈도수만 출력하는 내장함수 생상\n",
    "def get_freq(pair):\n",
    "    return pair[1]\n",
    "\n",
    "# 튜플의 리스트를 받아 빈도수가 낮은 순서대로 정렬\n",
    "def sort_by_frequency(pairs):\n",
    "    return sorted(pairs, key = get_freq)\n",
    "print(sort_by_frequency(pairs))"
   ]
  },
  {
   "cell_type": "markdown",
   "metadata": {},
   "source": [
    "### 차트 그리기"
   ]
  },
  {
   "cell_type": "code",
   "execution_count": 11,
   "metadata": {},
   "outputs": [
    {
     "name": "stdout",
     "output_type": "stream",
     "text": [
      "막대 차트를 출력합니다.\n"
     ]
    },
    {
     "data": {
      "image/png": "[encoded data removed]",
      "text/plain": [
       "<Figure size 432x288 with 1 Axes>"
      ]
     },
     "metadata": {
      "needs_background": "light"
     },
     "output_type": "display_data"
    }
   ],
   "source": [
    "# matplotlib의 일부인 pyplot 라이브러리를 불러오기\n",
    "import matplotlib.pyplot as plt\n",
    "\n",
    "# 월별 평균 기온을 선언합니다.\n",
    "years = [2013, 2014, 2015, 2016, 2017]\n",
    "temperatures = [5, 10, 15, 20, 17]\n",
    "\n",
    "#막대 차트를 출력합니다.   \n",
    "def draw_graph():\n",
    "    # 막대 그래프의 막대 위치를 결정하는 pos를 선언합니다.\n",
    "    pos = range(len(years))  # [0, 1, 2, 3, 4]\n",
    "    \n",
    "    # 높이가 온도인 막대 그래프를 그립니다.\n",
    "    # 각 막대를 가운데 정렬합니다.\n",
    "    plt.bar(pos, temperatures, align='center')\n",
    "    \n",
    "    # 각 막대에 해당되는 연도를 표기합니다.\n",
    "    plt.xticks(pos, years)\n",
    "    \n",
    "  .# 그린 그래프를 파일로 저장.\n",
    "    plt.savefig('graph.png')\n",
    "\n",
    "print('막대 차트를 출력합니다.')\n",
    "draw_graph()"
   ]
  },
  {
   "cell_type": "code",
   "execution_count": null,
   "metadata": {},
   "outputs": [],
   "source": []
  },
  {
   "cell_type": "code",
   "execution_count": null,
   "metadata": {},
   "outputs": [],
   "source": []
  }
 ],
 "metadata": {
  "kernelspec": {
   "display_name": "Python 3",
   "language": "python",
   "name": "python3"
  },
  "language_info": {
   "codemirror_mode": {
    "name": "ipython",
    "version": 3
   },
   "file_extension": ".py",
   "mimetype": "text/x-python",
   "name": "python",
   "nbconvert_exporter": "python",
   "pygments_lexer": "ipython3",
   "version": "3.7.3"
  }
 },
 "nbformat": 4,
 "nbformat_minor": 2
}
