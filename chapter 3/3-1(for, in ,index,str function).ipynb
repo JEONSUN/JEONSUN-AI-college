{
 "cells": [
  {
   "cell_type": "markdown",
   "metadata": {},
   "source": [
    "### 리스트 순회하기\n"
   ]
  },
  {
   "cell_type": "markdown",
   "metadata": {},
   "source": [
    "### for 반복문"
   ]
  },
  {
   "cell_type": "code",
   "execution_count": 1,
   "metadata": {},
   "outputs": [
    {
     "name": "stdout",
     "output_type": "stream",
     "text": [
      "사과는 맛있어\n",
      "바나나는 맛있어\n",
      "키위는 맛있어\n"
     ]
    }
   ],
   "source": [
    "# 기본 반복문\n",
    "fruits = [\"사과\", \"바나나\",\"키위\"]\n",
    "\n",
    "for fruit in fruits : \n",
    "    print(fruit + \"는 맛있어\")"
   ]
  },
  {
   "cell_type": "code",
   "execution_count": 2,
   "metadata": {},
   "outputs": [
    {
     "name": "stdout",
     "output_type": "stream",
     "text": [
      "0\n",
      "1\n",
      "2\n",
      "3\n",
      "4\n",
      "5\n",
      "6\n",
      "7\n",
      "8\n",
      "9\n"
     ]
    }
   ],
   "source": [
    "# range 사용한 반복문\n",
    "for num in range(10) :\n",
    "    print(num)"
   ]
  },
  {
   "cell_type": "code",
   "execution_count": 13,
   "metadata": {},
   "outputs": [
    {
     "name": "stdout",
     "output_type": "stream",
     "text": [
      "과일1: fruits[i]\n",
      "과일2: fruits[i]\n",
      "과일3: fruits[i]\n"
     ]
    }
   ],
   "source": [
    "fruits = [\"사과\", \"바나나\",\"키위\"]\n",
    "\n",
    "# 과일의 이름과 번호를 함께 출력합니다.\n",
    "\n",
    "for i in range(len(fruits)) :\n",
    "    print(\"과일\" + str(i + 1) + \": fruits[i]\")"
   ]
  },
  {
   "cell_type": "code",
   "execution_count": 9,
   "metadata": {},
   "outputs": [
    {
     "name": "stdout",
     "output_type": "stream",
     "text": [
      "2018년 1월 1일: Will be leaving Florida for Washington (D.C.) today at 4:00 P.M. Much work to be done, but it will be a great New Year!\n",
      "2018년 1월 2일: Companies are giving big bonuses to their workers because of the Tax Cut Bill. Really great!\n",
      "2018년 1월 3일: MAKE AMERICA GREAT AGAIN!\n"
     ]
    }
   ],
   "source": [
    "# 트럼프 대통령의 1월 1~3일 트윗을 각각 리스트의 원소로 저장합니다.\n",
    "trump_tweets = [\n",
    "    'Will be leaving Florida for Washington (D.C.) today at 4:00 P.M. Much work to be done, but it will be a great New Year!',\n",
    "    'Companies are giving big bonuses to their workers because of the Tax Cut Bill. Really great!',\n",
    "    'MAKE AMERICA GREAT AGAIN!'\n",
    "]\n",
    "\n",
    "def date_tweet(tweet):\n",
    "    # index에 0~2을 차례대로 저장하여 반복문을 실행합니다.\n",
    "    for index in range(len(tweet)):\n",
    "        print('2018년 1월 ' + str(index+1) + '일: ' + tweet[index])\n",
    "\n",
    "\n",
    "# 실행 결과를 확인하기 위한 코드입니다.\n",
    "date_tweet(trump_tweets)"
   ]
  },
  {
   "cell_type": "markdown",
   "metadata": {},
   "source": [
    "### 문자열 인덱싱"
   ]
  },
  {
   "cell_type": "code",
   "execution_count": 15,
   "metadata": {},
   "outputs": [
    {
     "name": "stdout",
     "output_type": "stream",
     "text": [
      "배 ['바나나', '키위'] ['바나나', '키위', '배'] ['사과', '바나나', '키위']\n"
     ]
    }
   ],
   "source": [
    "fruits = [\"사과\", \"바나나\",\"키위\",\"배\"]\n",
    "last_fruit = fruits[-1] # 배\n",
    "tropical_fruits = fruits[1:3] # 바나나~키위\n",
    "no_apple = fruits[1:] # 바나나~배\n",
    "no_pear = fruits[:3] # 사과~키위\n",
    "print(last_fruit,tropical_fruits,no_apple,no_pear)"
   ]
  },
  {
   "cell_type": "code",
   "execution_count": 16,
   "metadata": {},
   "outputs": [
    {
     "name": "stdout",
     "output_type": "stream",
     "text": [
      "e\n",
      "a\n",
      "man\n",
      "super\n"
     ]
    }
   ],
   "source": [
    "word = \"superman\"\n",
    "print(word[3]) # 'e'\n",
    "print(word[-2]) # 'a'\n",
    "print(word[5:]) # 'man'\n",
    "print(word[:5]) # 'super'"
   ]
  },
  {
   "cell_type": "code",
   "execution_count": 19,
   "metadata": {},
   "outputs": [
    {
     "name": "stdout",
     "output_type": "stream",
     "text": [
      "korea\n"
     ]
    }
   ],
   "source": [
    "# k로 시작하는 단어 찾기\n",
    "trump_tweets = ['thank', 'you', 'to', 'president', 'moon', 'of', 'south', 'korea', 'for', 'the', 'beautiful', 'welcoming', 'ceremony', 'it', 'will', 'always', 'be', 'remembered']\n",
    "\n",
    "def print_korea(text):\n",
    "    # def안에 text로 시작\n",
    "    for word in text :\n",
    "        if word[0] == \"k\":\n",
    "            print(word)\n",
    "        \n",
    "\n",
    "print_korea(trump_tweets)\n"
   ]
  },
  {
   "cell_type": "markdown",
   "metadata": {},
   "source": [
    "### 문자열 함수"
   ]
  },
  {
   "cell_type": "markdown",
   "metadata": {},
   "source": [
    "#### .startswith()\n",
    "\n",
    "- ()안에 문자가 시작하는 단어 선택할때 사용한다."
   ]
  },
  {
   "cell_type": "code",
   "execution_count": 20,
   "metadata": {},
   "outputs": [
    {
     "name": "stdout",
     "output_type": "stream",
     "text": [
      "True\n"
     ]
    }
   ],
   "source": [
    "word = \"superman\"\n",
    "\n",
    "print(word.startswith('s'))"
   ]
  },
  {
   "cell_type": "code",
   "execution_count": 21,
   "metadata": {},
   "outputs": [],
   "source": [
    "# word가 a로 시작하지 않으므로 아무것도 출력되지않음.\n",
    "if word.startswith('a') :\n",
    "    print(\"a로 시작하는 단어입니다.\")"
   ]
  },
  {
   "cell_type": "code",
   "execution_count": 23,
   "metadata": {},
   "outputs": [
    {
     "name": "stdout",
     "output_type": "stream",
     "text": [
      "#be\n",
      "@remembered\n"
     ]
    }
   ],
   "source": [
    "# #과 @로 시작하는 단어 찾기\n",
    "trump_tweets = ['thank', 'you', 'to', 'president', 'moon', 'of', 'south', 'korea', 'for', 'the', 'beautiful', 'welcoming', 'ceremony', 'it', 'will', 'always', '#be', '@remembered']\n",
    "\n",
    "def print_korea(text):\n",
    "    for word in text :\n",
    "        if word.startswith('#') :\n",
    "            print(word)\n",
    "        elif word.startswith('@') :\n",
    "            print(word)\n",
    "    \n",
    "    \n",
    "\n",
    "print_korea(trump_tweets)"
   ]
  },
  {
   "cell_type": "markdown",
   "metadata": {},
   "source": [
    "#### .split()\n",
    "\n",
    "- ()안을 기준으로 문자열을 분리한다."
   ]
  },
  {
   "cell_type": "code",
   "execution_count": 24,
   "metadata": {},
   "outputs": [
    {
     "name": "stdout",
     "output_type": "stream",
     "text": [
      "['제', '이름은', '앨리스입니다.']\n"
     ]
    }
   ],
   "source": [
    "intro = \"제 이름은 앨리스입니다.\"\n",
    "\n",
    "print(intro.split())"
   ]
  },
  {
   "cell_type": "code",
   "execution_count": 25,
   "metadata": {},
   "outputs": [
    {
     "name": "stdout",
     "output_type": "stream",
     "text": [
      "['사과', '귤', '배', '바나나']\n"
     ]
    }
   ],
   "source": [
    "fruits = \"사과,귤,배,바나나\"\n",
    "\n",
    "print(fruits.split(','))"
   ]
  },
  {
   "cell_type": "code",
   "execution_count": 26,
   "metadata": {},
   "outputs": [
    {
     "name": "stdout",
     "output_type": "stream",
     "text": [
      "['1', '2', '3']\n"
     ]
    }
   ],
   "source": [
    "# split안에 아무것도 넣지 않았을 때\n",
    "\n",
    "numbers = \" 1 2 3\"\n",
    "print(numbers.split())"
   ]
  },
  {
   "cell_type": "code",
   "execution_count": 30,
   "metadata": {},
   "outputs": [
    {
     "name": "stdout",
     "output_type": "stream",
     "text": [
      "['', '1', '2', '3']\n"
     ]
    }
   ],
   "source": [
    "# split안에 space 한칸으로 나눌 때\n",
    "# 빈 문자열을 출력해줌\n",
    "numbers = \" 1 2 3\"\n",
    "print(numbers.split(' '))"
   ]
  },
  {
   "cell_type": "markdown",
   "metadata": {},
   "source": [
    "#### 대표적인 공백문자\n",
    "|-----|-----|\n",
    "|-----|-----|\n",
    "| ' ' | 빈칸|\n",
    "| \\t | tab키|\n",
    "| \\n | 엔터키|"
   ]
  },
  {
   "cell_type": "code",
   "execution_count": 31,
   "metadata": {},
   "outputs": [
    {
     "name": "stdout",
     "output_type": "stream",
     "text": [
      "['thank', 'you', 'to', 'president', 'moon', 'of', 'south', 'korea', 'for', 'the', 'beautiful', 'welcoming', 'ceremony', 'it', 'will', 'always', 'be', 'remembered']\n"
     ]
    }
   ],
   "source": [
    "# 공백을 기준으로 분리하기\n",
    "trump_tweets = \"thank you to president moon of south korea for the beautiful welcoming ceremony it will always be remembered\"\n",
    "\n",
    "def break_into_words(text):\n",
    "    words = text.split()\n",
    "    \n",
    "    return words\n",
    "\n",
    "\n",
    "print(break_into_words(trump_tweets))"
   ]
  },
  {
   "cell_type": "markdown",
   "metadata": {},
   "source": [
    "#### .append()\n",
    "\n",
    "- 문자열 함수가 아닌 **리스트 함수**"
   ]
  },
  {
   "cell_type": "code",
   "execution_count": 32,
   "metadata": {},
   "outputs": [
    {
     "name": "stdout",
     "output_type": "stream",
     "text": [
      "[1]\n",
      "[1, 2]\n"
     ]
    }
   ],
   "source": [
    "numbers = []\n",
    "numbers.append(1)\n",
    "print(numbers)\n",
    "numbers.append(2)\n",
    "print(numbers)"
   ]
  },
  {
   "cell_type": "code",
   "execution_count": 35,
   "metadata": {},
   "outputs": [
    {
     "name": "stdout",
     "output_type": "stream",
     "text": [
      "[1, 2]\n"
     ]
    }
   ],
   "source": [
    "numbers = [1,2,10,17]\n",
    "small_numbers = []\n",
    "\n",
    "for num in numbers :\n",
    "    if num < 10 :\n",
    "        small_numbers.append(num)\n",
    "print(small_numbers)"
   ]
  },
  {
   "cell_type": "code",
   "execution_count": null,
   "metadata": {},
   "outputs": [],
   "source": [
    "# 'b'로 시작하는 요소를 new_list라는 빈 리스트에 넣어보자.\n",
    "trump_tweets = ['america', 'is', 'back', 'and', 'we', 'are', 'coming', 'back', 'bigger', 'and', 'better', 'and', 'stronger', 'than', 'ever', 'before']\n",
    "\n",
    "def make_new_list(text):\n",
    "    new_list = []\n",
    "    for word in text :\n",
    "        if word.startswith('b') :\n",
    "            new_list.append(word)\n",
    "\n",
    "    return new_list\n",
    "  \n",
    "new_list = make_new_list(trump_tweets)\n",
    "print(new_list)"
   ]
  },
  {
   "cell_type": "markdown",
   "metadata": {},
   "source": [
    "#### 대소문자 변환\n",
    "\n",
    "- **upper** : 대문자로 변환한다.\n",
    "- **lower** : 소문자로 변환한다."
   ]
  },
  {
   "cell_type": "code",
   "execution_count": 36,
   "metadata": {},
   "outputs": [
    {
     "name": "stdout",
     "output_type": "stream",
     "text": [
      "MY NAME IS ELICE!\n",
      "my name is elice!\n"
     ]
    }
   ],
   "source": [
    "intro = \"My name is Elice!\"\n",
    "print(intro.upper())\n",
    "print(intro.lower())"
   ]
  },
  {
   "cell_type": "markdown",
   "metadata": {},
   "source": [
    "#### append()와 lower()의 차이"
   ]
  },
  {
   "cell_type": "code",
   "execution_count": 37,
   "metadata": {},
   "outputs": [
    {
     "name": "stdout",
     "output_type": "stream",
     "text": [
      "['hello', 'alice']\n"
     ]
    }
   ],
   "source": [
    "words = ['hello']\n",
    "words.append('alice')\n",
    "print(words)"
   ]
  },
  {
   "cell_type": "code",
   "execution_count": 39,
   "metadata": {},
   "outputs": [
    {
     "name": "stdout",
     "output_type": "stream",
     "text": [
      "My name is Elice\n",
      "my name is elice\n"
     ]
    }
   ],
   "source": [
    "intro = \"My name is Elice\"\n",
    "\n",
    "# 원래 문자열을 직접 수정하지 않는다!\n",
    "intro.lower()\n",
    "print(intro)\n",
    "\n",
    "# 변환시킨후 새로운 변수에 저장시켜줘야 한다!!!\n",
    "lower_intro = intro.lower()\n",
    "print(lower_intro)"
   ]
  },
  {
   "cell_type": "code",
   "execution_count": 44,
   "metadata": {},
   "outputs": [
    {
     "name": "stdout",
     "output_type": "stream",
     "text": [
      "fake news - a total political witch hunt!\n",
      "any negative polls are fake news, just like the cnn, abc, nbc polls in the election.\n",
      "the fake news media is officially out of control.\n"
     ]
    }
   ],
   "source": [
    "trump_tweets = [\n",
    "    \"FAKE NEWS - A TOTAL POLITICAL WITCH HUNT!\",\n",
    "    \"Any negative polls are fake news, just like the CNN, ABC, NBC polls in the election.\",\n",
    "    \"The Fake News media is officially out of control.\",\n",
    "]\n",
    "\n",
    "# text를 모두 소문자로 변환하기\n",
    "def lowercase_all_characters(text):\n",
    "    processed_text = []\n",
    "    for sentence in text :\n",
    "        sentence_lower = sentence.lower()\n",
    "        processed_text.append(sentence_lower)\n",
    "    \n",
    "    \n",
    "    \n",
    "    return processed_text\n",
    "\n",
    "\n",
    "\n",
    "print('\\n'.join(lowercase_all_characters(trump_tweets)))"
   ]
  },
  {
   "cell_type": "markdown",
   "metadata": {},
   "source": [
    "#### .replace()\n",
    "\n",
    "- 주어진 문자열에서 특정 문자를 다른 문자로 대체할 때 사용한다."
   ]
  },
  {
   "cell_type": "code",
   "execution_count": 45,
   "metadata": {},
   "outputs": [
    {
     "name": "stdout",
     "output_type": "stream",
     "text": [
      "제 이름은 엘리스입니다.\n"
     ]
    }
   ],
   "source": [
    "# 문자 바꾸기\n",
    "\n",
    "intro = \"제 이름은 Elice입니다.\"\n",
    "print(intro.replace('Elice','엘리스'))"
   ]
  },
  {
   "cell_type": "code",
   "execution_count": 47,
   "metadata": {},
   "outputs": [
    {
     "name": "stdout",
     "output_type": "stream",
     "text": [
      "제이름은Elice입니다.\n"
     ]
    }
   ],
   "source": [
    "# 문자 공백 없애기\n",
    "\n",
    "print(intro.replace(' ',''))"
   ]
  },
  {
   "cell_type": "code",
   "execution_count": 48,
   "metadata": {},
   "outputs": [
    {
     "name": "stdout",
     "output_type": "stream",
     "text": [
      "제 이름은 Elice입니다.\n"
     ]
    }
   ],
   "source": [
    "# 저장을 안시켜놓으면 실행을해도 다 날아가버린다!\n",
    "\n",
    "intro.replace(' ', '')\n",
    "print(intro)"
   ]
  },
  {
   "cell_type": "code",
   "execution_count": 52,
   "metadata": {},
   "outputs": [
    {
     "name": "stdout",
     "output_type": "stream",
     "text": [
      "i hope everyone is having a great christmas then tomorrow it’s back to work in order to make america great again\n",
      "7 of 10 americans prefer merry christmas over happy holidays\n",
      "merry christmas\n"
     ]
    }
   ],
   "source": [
    "trump_tweets = [\n",
    "    \"i hope everyone is having a great christmas, then tomorrow it’s back to work in order to make america great again.\",\n",
    "    \"7 of 10 americans prefer 'merry christmas' over 'happy holidays'.\",\n",
    "    \"merry christmas!!!\",\n",
    "]\n",
    "\n",
    "# 특수 기호들을 다 지워보자\n",
    "def remove_special_characters(text):\n",
    "    processed_text = []\n",
    "    # 아래 코드를 작성하세요.\n",
    "    for sentence in text :\n",
    "        processed_text.append(sentence.replace('!','').replace('.','').replace(',','').replace(\"'\",\"\"))\n",
    "    \n",
    "    \n",
    "    \n",
    "    return processed_text\n",
    "\n",
    "\n",
    "print('\\n'.join(remove_special_characters(trump_tweets)))"
   ]
  }
 ],
 "metadata": {
  "kernelspec": {
   "display_name": "Python 3",
   "language": "python",
   "name": "python3"
  },
  "language_info": {
   "codemirror_mode": {
    "name": "ipython",
    "version": 3
   },
   "file_extension": ".py",
   "mimetype": "text/x-python",
   "name": "python",
   "nbconvert_exporter": "python",
   "pygments_lexer": "ipython3",
   "version": "3.7.3"
  }
 },
 "nbformat": 4,
 "nbformat_minor": 2
}
