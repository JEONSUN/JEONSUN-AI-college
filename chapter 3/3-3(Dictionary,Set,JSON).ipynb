{
 "cells": [
  {
   "cell_type": "markdown",
   "metadata": {},
   "source": [
    "### 딕셔너리\n",
    "\n",
    "{key : value}\n",
    "\n",
    "**key**: 값을 찾기 위해 넣어 주는 데이터<br>\n",
    "**value** : 찾고자 하는 데이터\n",
    "\n"
   ]
  },
  {
   "cell_type": "code",
   "execution_count": 3,
   "metadata": {},
   "outputs": [],
   "source": [
    "# dictionary 생성\n",
    "empty_dict = {}\n",
    "new_dict = {\n",
    "    'apple' : '사과',\n",
    "    'book' : '책',\n",
    "    'human' : '사람'\n",
    "}"
   ]
  },
  {
   "cell_type": "code",
   "execution_count": 7,
   "metadata": {},
   "outputs": [
    {
     "name": "stdout",
     "output_type": "stream",
     "text": [
      "책\n"
     ]
    }
   ],
   "source": [
    "dictionary = {}\n",
    "dictionary['apple'] = '사과'\n",
    "dictionary['book'] = '책'\n",
    "dictionary['human'] = '사람'\n",
    "\n",
    "# key를 통해 value 찾기\n",
    "print(dictionary['book'])"
   ]
  },
  {
   "cell_type": "markdown",
   "metadata": {},
   "source": [
    "### 딕셔너리 vs 리스트\n",
    "\n",
    "- **딕셔너리**내에서는 효율적으로 빠르게 값을 찾아낼 수 있다.\n",
    "\n",
    "\n",
    "- **리스트**에서는 모든 아이디를 확인해야 하므로, 데이터가 많을 경우 수십 배 까지도 성능 차이가 난다."
   ]
  },
  {
   "cell_type": "code",
   "execution_count": 8,
   "metadata": {},
   "outputs": [
    {
     "name": "stdout",
     "output_type": "stream",
     "text": [
      "Taeyang\n"
     ]
    }
   ],
   "source": [
    "# {id : 이름}\n",
    "# dictionary에서 이름찾기\n",
    "accounts = {\n",
    "    \"Jeonsun\" : \"Taeyang\"\n",
    "}\n",
    "\n",
    "print(accounts[\"Jeonsun\"])"
   ]
  },
  {
   "cell_type": "code",
   "execution_count": 9,
   "metadata": {},
   "outputs": [],
   "source": [
    "# [(id,이름)]\n",
    "# 리스트에서 이름 찾기\n",
    "\n",
    "accounts = [\n",
    "    (\"Jeonsun\", \"Taeyang\")\n",
    "]"
   ]
  },
  {
   "cell_type": "code",
   "execution_count": 11,
   "metadata": {},
   "outputs": [],
   "source": [
    "for id_, name in accounts :\n",
    "    if id == \"Jeonsun\" :\n",
    "        print(name)    "
   ]
  },
  {
   "cell_type": "markdown",
   "metadata": {},
   "source": [
    "### 딕셔너리의 키\n",
    "\n",
    "- 변할 수 없는 값만이 key가 될 수 있다.<br>"
   ]
  },
  {
   "cell_type": "markdown",
   "metadata": {},
   "source": [
    "#### 딕셔너리의 키 확인하기"
   ]
  },
  {
   "cell_type": "code",
   "execution_count": 24,
   "metadata": {},
   "outputs": [
    {
     "name": "stdout",
     "output_type": "stream",
     "text": [
      "True\n",
      "False\n"
     ]
    }
   ],
   "source": [
    "accounts = {\"kdhong\": \"kildong Hong\",}\n",
    "print(\"kdhong\" in accounts)\n",
    "print(\"elice\" in accounts)"
   ]
  },
  {
   "cell_type": "markdown",
   "metadata": {},
   "source": [
    "### 딕셔너리 순회하기"
   ]
  },
  {
   "cell_type": "code",
   "execution_count": 25,
   "metadata": {},
   "outputs": [
    {
     "name": "stdout",
     "output_type": "stream",
     "text": [
      "kdhong-kildong Hong\n"
     ]
    }
   ],
   "source": [
    "accounts = {\"kdhong\" : \"kildong Hong\",}\n",
    "\n",
    "for username, name in accounts.items() :\n",
    "    print(username + \"-\" + name)"
   ]
  },
  {
   "cell_type": "code",
   "execution_count": 26,
   "metadata": {},
   "outputs": [
    {
     "name": "stdout",
     "output_type": "stream",
     "text": [
      "{1: 3, 2: 4, 3: 1, 4: 7, 5: 5}\n"
     ]
    }
   ],
   "source": [
    "# 사용자가 시청한 작품의 리스트를 저장합니다.\n",
    "user_to_titles = {\n",
    "    1: [271, 318, 491],\n",
    "    2: [318, 19, 2980, 475],\n",
    "    3: [475],\n",
    "    4: [271, 318, 491, 2980, 19, 318, 475],\n",
    "    5: [882, 91, 2980, 557, 35],\n",
    "}\n",
    "# 빈 딕셔너리 생성\n",
    "def get_user_to_num_titles(user_to_titles):\n",
    "    user_to_num_titles = {}\n",
    "    \n",
    "    # 키값(user),작품수(titles)를 구분하고\n",
    "    # 작품(titles)는 len으로 작품수로 바꾼다\n",
    "    for user,titles in user_to_titles.items() :\n",
    "        user_to_num_titles[user] = len(titles)\n",
    "    \n",
    "    \n",
    "    return user_to_num_titles\n",
    "    \n",
    "\n",
    "print(get_user_to_num_titles(user_to_titles))\n"
   ]
  },
  {
   "cell_type": "markdown",
   "metadata": {},
   "source": [
    "## JSON\n",
    "\n",
    "- **JavaScript Object Notation**의 줄임말\n",
    "\n",
    "***\n",
    "- **웹 환경**에서 데이터를 주고 받는 가장 표준적인 방식\n",
    "\n",
    "- 키를 이용하여 원하는 데이터만 **빠르게** 추출 가능\n",
    "\n",
    "- 데이터가 쉽게 **오염되지 않음**\n",
    "\n",
    "- 다른 포맷에 비해 용량이 조금 큰 편이다.\n",
    "***"
   ]
  },
  {
   "cell_type": "markdown",
   "metadata": {},
   "source": [
    "### JSON과 딕셔너리 변환\n",
    "\n",
    "**JSON** -> **Dicitionary** :\n",
    "loads() 사용\n",
    "\n",
    "**JSON** <- **Dicitionary** : \n",
    "dumps() 사용"
   ]
  },
  {
   "cell_type": "code",
   "execution_count": null,
   "metadata": {},
   "outputs": [],
   "source": []
  },
  {
   "cell_type": "code",
   "execution_count": null,
   "metadata": {},
   "outputs": [],
   "source": []
  },
  {
   "cell_type": "code",
   "execution_count": null,
   "metadata": {},
   "outputs": [],
   "source": []
  },
  {
   "cell_type": "code",
   "execution_count": null,
   "metadata": {},
   "outputs": [],
   "source": []
  },
  {
   "cell_type": "code",
   "execution_count": null,
   "metadata": {},
   "outputs": [],
   "source": []
  },
  {
   "cell_type": "code",
   "execution_count": null,
   "metadata": {},
   "outputs": [],
   "source": []
  },
  {
   "cell_type": "code",
   "execution_count": null,
   "metadata": {},
   "outputs": [],
   "source": []
  },
  {
   "cell_type": "code",
   "execution_count": null,
   "metadata": {},
   "outputs": [],
   "source": []
  },
  {
   "cell_type": "code",
   "execution_count": null,
   "metadata": {},
   "outputs": [],
   "source": []
  },
  {
   "cell_type": "code",
   "execution_count": null,
   "metadata": {},
   "outputs": [],
   "source": []
  }
 ],
 "metadata": {
  "kernelspec": {
   "display_name": "Python 3",
   "language": "python",
   "name": "python3"
  },
  "language_info": {
   "codemirror_mode": {
    "name": "ipython",
    "version": 3
   },
   "file_extension": ".py",
   "mimetype": "text/x-python",
   "name": "python",
   "nbconvert_exporter": "python",
   "pygments_lexer": "ipython3",
   "version": "3.7.3"
  }
 },
 "nbformat": 4,
 "nbformat_minor": 2
}
