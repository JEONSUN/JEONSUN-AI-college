{
 "cells": [
  {
   "cell_type": "markdown",
   "metadata": {},
   "source": [
    "### 반복문\n",
    "\n",
    "- 어떠한 조건이나, 범위 내에서 어떠한 명령을 반복적으로 수행하는 것"
   ]
  },
  {
   "cell_type": "markdown",
   "metadata": {},
   "source": [
    "### for문\n",
    "\n",
    "- 범위와 관련됨 -> sequence로 주어진다.\n",
    "\n",
    "ex) [1,2,3,4,5]에서 원소를 하나씩 가져와서 출력한다\n",
    "    시퀀스 -> 반복 -> 명령\n",
    "    \n",
    "***********\n",
    "\n",
    "for 변수 in 시퀀스 :\n",
    "\n",
    "    <수행할 명령>"
   ]
  },
  {
   "cell_type": "code",
   "execution_count": 1,
   "metadata": {},
   "outputs": [
    {
     "name": "stdout",
     "output_type": "stream",
     "text": [
      "3 6\n"
     ]
    }
   ],
   "source": [
    "sum = 0\n",
    "for i in [1,2,3] :\n",
    "    sum = sum + i\n",
    "    \n",
    "print(i,sum)"
   ]
  },
  {
   "cell_type": "code",
   "execution_count": 2,
   "metadata": {},
   "outputs": [
    {
     "name": "stdout",
     "output_type": "stream",
     "text": [
      "g 7\n"
     ]
    }
   ],
   "source": [
    "# 명령이 len(시퀀스)번 만큼 실행된다.\n",
    "\n",
    "length = 0\n",
    "for x in  \"abcdefg\" :\n",
    "    length = length + 1\n",
    "print(x, length)"
   ]
  },
  {
   "cell_type": "code",
   "execution_count": 3,
   "metadata": {},
   "outputs": [
    {
     "name": "stdout",
     "output_type": "stream",
     "text": [
      "1\n",
      "2\n",
      "3\n",
      "4\n",
      "5\n",
      "6\n",
      "7\n"
     ]
    }
   ],
   "source": [
    "# print를 사용하는것보다 for문이 훨씬 효율적이다.\n",
    "\n",
    "for i in [1,2,3,4,5,6,7] :\n",
    "    print(i)"
   ]
  },
  {
   "cell_type": "markdown",
   "metadata": {},
   "source": [
    "### for - range 문\n",
    "\n",
    "- 횟수만 아는 경우 사용한다.\n",
    "\n",
    "**range** : 연속되는 숫자를 만들어 주는 시퀀스 자료형\n",
    "***\n",
    "range(a,b) # a -> start, b->end #a, a+1, a+2,... **b-1**\n",
    "\n",
    "range(0,9) -> [0,1,2,~8]\n",
    "*****\n",
    "#### 구간으로 반복하는 방법\n",
    "\n",
    "a이상 b미만의 수를 변수에 넣어가면서 명령을 수행\n",
    "\n",
    "****\n",
    "#### 횟수로 반복하는 방법\n",
    "\n",
    "a번만큼 명령을 수행"
   ]
  },
  {
   "cell_type": "code",
   "execution_count": 4,
   "metadata": {},
   "outputs": [
    {
     "name": "stdout",
     "output_type": "stream",
     "text": [
      "[1, 2, 3]\n"
     ]
    }
   ],
   "source": [
    "# 구간으로 반복하는 방법\n",
    "a = [1]\n",
    "for i in range(2,4) : # 2,3을\n",
    "    a.append(i) # a리스트에 append하겠다\n",
    "print(a)"
   ]
  },
  {
   "cell_type": "code",
   "execution_count": 5,
   "metadata": {},
   "outputs": [
    {
     "name": "stdout",
     "output_type": "stream",
     "text": [
      "10\n"
     ]
    }
   ],
   "source": [
    "# 횟수로 반복하는 방법\n",
    "count = 0\n",
    "for i in range(10) :\n",
    "    count = count + 1  # 새로운 count에 이전 count +1을 하겠다.\n",
    "print(count)\n",
    "\n",
    "# for문에서 i를 굳이 언급할 필요가 없다\n",
    "# range안의 시퀀스의 값을 받아오는 용도이기 때문!"
   ]
  },
  {
   "cell_type": "code",
   "execution_count": 6,
   "metadata": {},
   "outputs": [
    {
     "name": "stdout",
     "output_type": "stream",
     "text": [
      "안녕!\n",
      "안녕!\n",
      "안녕!\n",
      "안녕!\n",
      "안녕!\n"
     ]
    }
   ],
   "source": [
    "# \"안녕\"을 5번 출력\n",
    "\n",
    "for i in range(0,5) :\n",
    "    print(\"안녕!\")"
   ]
  },
  {
   "cell_type": "code",
   "execution_count": 7,
   "metadata": {},
   "outputs": [
    {
     "name": "stdout",
     "output_type": "stream",
     "text": [
      "19 * 1 = 19\n",
      "19 * 2 = 38\n",
      "19 * 3 = 57\n",
      "19 * 4 = 76\n",
      "19 * 5 = 95\n",
      "19 * 6 = 114\n",
      "19 * 7 = 133\n",
      "19 * 8 = 152\n",
      "19 * 9 = 171\n",
      "19 * 10 = 190\n",
      "19 * 11 = 209\n",
      "19 * 12 = 228\n",
      "19 * 13 = 247\n",
      "19 * 14 = 266\n",
      "19 * 15 = 285\n",
      "19 * 16 = 304\n",
      "19 * 17 = 323\n",
      "19 * 18 = 342\n",
      "19 * 19 = 361\n"
     ]
    }
   ],
   "source": [
    "# 19단 출력\n",
    "\n",
    "for i in range(1,20) :\n",
    "    print(\"19 * %d = %d\"%(i,19*i))"
   ]
  },
  {
   "cell_type": "markdown",
   "metadata": {},
   "source": [
    "### while 문\n",
    "\n",
    "조건을 사용하여 반복함 : if가 **참**인 동안 수행\n",
    "\n",
    "****\n",
    "#### break 문\n",
    "\n",
    "if문으로 조건을 걸어준 다음, break 실행\n",
    "\n",
    "-> 반복문을 탈출하는 역할을 한다"
   ]
  },
  {
   "cell_type": "code",
   "execution_count": 8,
   "metadata": {},
   "outputs": [
    {
     "name": "stdout",
     "output_type": "stream",
     "text": [
      "5\n",
      "4\n",
      "3\n",
      "2\n",
      "1\n",
      "Launch!\n"
     ]
    }
   ],
   "source": [
    "i = 5\n",
    "while i > 0 : # i가 5일경우 true\n",
    "    print(i) # 5출력 4출력 ~ 1출력\n",
    "    i = i - 1 # 5-1 = 4 다시 while반복 3,2,1\n",
    "print(\"Launch!\") # 0일경우 조건이 안맞으므로 Lanuch 출력"
   ]
  },
  {
   "cell_type": "code",
   "execution_count": 9,
   "metadata": {},
   "outputs": [
    {
     "name": "stdout",
     "output_type": "stream",
     "text": [
      "5 10\n"
     ]
    }
   ],
   "source": [
    "i = 1\n",
    "sum = 0\n",
    "while i < 5: # i가 5보다 작을경우 출력\n",
    "    sum = sum + i # 1,3,6,10\n",
    "    i = i + 1 # 1,2,3,4,5\n",
    "print(i,sum)"
   ]
  },
  {
   "cell_type": "code",
   "execution_count": 10,
   "metadata": {},
   "outputs": [
    {
     "name": "stdout",
     "output_type": "stream",
     "text": [
      "Knock\n",
      "Knock\n",
      "Knock\n",
      "Knock\n"
     ]
    }
   ],
   "source": [
    "# break문\n",
    "\n",
    "i = 0 \n",
    "while True :\n",
    "    print(\"Knock\")\n",
    "    if i >= 3 :\n",
    "        break\n",
    "    i = i + 1"
   ]
  },
  {
   "cell_type": "code",
   "execution_count": 11,
   "metadata": {},
   "outputs": [
    {
     "name": "stdout",
     "output_type": "stream",
     "text": [
      "1\n",
      "2\n",
      "3\n",
      "4\n",
      "5\n",
      "6\n",
      "7\n",
      "8\n",
      "9\n",
      "10\n"
     ]
    }
   ],
   "source": [
    "i = 1\n",
    "while i < 11 :\n",
    "    print(i)\n",
    "    i = i + 1"
   ]
  },
  {
   "cell_type": "code",
   "execution_count": 12,
   "metadata": {},
   "outputs": [
    {
     "name": "stdout",
     "output_type": "stream",
     "text": [
      "1 년째 수감중입니다.\n",
      "2 년째 수감중입니다.\n",
      "3 년째 수감중입니다.\n",
      "4 년째 수감중입니다.\n",
      "5 년째 수감중입니다.\n",
      "6 년째 수감중입니다.\n",
      "7 년째 수감중입니다.\n",
      "8 년째 수감중입니다.\n",
      "9 년째 수감중입니다.\n",
      "10 년째 수감중입니다.\n",
      "감옥에서 석방되었습니다!\n"
     ]
    }
   ],
   "source": [
    "# 초기값\n",
    "i = 1\n",
    "# 반복\n",
    "while i < 11 :\n",
    "    print(i,\"년째 수감중입니다.\")\n",
    "    i = i + 1\n",
    "print(\"감옥에서 석방되었습니다!\")"
   ]
  },
  {
   "cell_type": "code",
   "execution_count": 13,
   "metadata": {},
   "outputs": [
    {
     "name": "stdout",
     "output_type": "stream",
     "text": [
      "55\n"
     ]
    }
   ],
   "source": [
    "# break를 통해 10까지의 합 구하기\n",
    "i= 1\n",
    "ans = 0\n",
    "while True:\n",
    "    ans = ans + i\n",
    "    i = i + 1\n",
    "    if i > 10 :\n",
    "        break\n",
    "\n",
    "print(ans)"
   ]
  },
  {
   "cell_type": "code",
   "execution_count": 14,
   "metadata": {
    "scrolled": true
   },
   "outputs": [
    {
     "name": "stdout",
     "output_type": "stream",
     "text": [
      "3\n",
      "*\n",
      "**\n",
      "***\n"
     ]
    }
   ],
   "source": [
    "# 별 그리기\n",
    "write_star = \"\"\n",
    "\n",
    "for i in range(int(input())):\n",
    "    write_star += \"*\"\n",
    "    i += 1\n",
    "    print(write_star)"
   ]
  },
  {
   "cell_type": "code",
   "execution_count": 15,
   "metadata": {},
   "outputs": [
    {
     "name": "stdout",
     "output_type": "stream",
     "text": [
      "100\n",
      "90\n",
      "80\n",
      "0\n",
      "90.0 270 3\n"
     ]
    }
   ],
   "source": [
    "# 평균 구하기 프로그램\n",
    "\n",
    "# 기본값 \n",
    "ssum = 0\n",
    "count = 0\n",
    "# 반복문 실행\n",
    "# i에 숫자를 입력해주고\n",
    "# ssum에는 입력한 i값을 반복해서 더한다.\n",
    "# count에는 입력값을 더해줄때마다 1을 더하고\n",
    "# 0을 입력하면 나오도록 한다.\n",
    "# 그후 print에서 평균을 구한다.\n",
    "while True :\n",
    "    i = int(input())\n",
    "    ssum += i \n",
    "    count += 1\n",
    "    if i == 0 :\n",
    "        break\n",
    "\n",
    "print(ssum/(count-1),ssum,count-1) # 평균값, 값의 합 ,입력값 크기"
   ]
  }
 ],
 "metadata": {
  "kernelspec": {
   "display_name": "Python 3",
   "language": "python",
   "name": "python3"
  },
  "language_info": {
   "codemirror_mode": {
    "name": "ipython",
    "version": 3
   },
   "file_extension": ".py",
   "mimetype": "text/x-python",
   "name": "python",
   "nbconvert_exporter": "python",
   "pygments_lexer": "ipython3",
   "version": "3.7.3"
  }
 },
 "nbformat": 4,
 "nbformat_minor": 2
}
