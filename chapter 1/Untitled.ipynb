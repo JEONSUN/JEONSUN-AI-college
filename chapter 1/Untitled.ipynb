{
 "cells": [
  {
   "cell_type": "markdown",
   "metadata": {},
   "source": [
    "숫자형은 연산이 가능하다\n",
    "\n",
    "문자열과 리스트는 \"\"/''와 []안에서 여러가지 원소를 가질 수 있고, 원소마다 **순서**를 가지고 있다."
   ]
  },
  {
   "cell_type": "code",
   "execution_count": 1,
   "metadata": {},
   "outputs": [
    {
     "name": "stdout",
     "output_type": "stream",
     "text": [
      "100\n"
     ]
    }
   ],
   "source": [
    "# 숫자 50과 50을 더해서 출력하기\n",
    "\n",
    "print(50+50)"
   ]
  },
  {
   "cell_type": "code",
   "execution_count": 2,
   "metadata": {},
   "outputs": [
    {
     "name": "stdout",
     "output_type": "stream",
     "text": [
      "5050\n"
     ]
    }
   ],
   "source": [
    "# 문자형 50과 50을 더해서 출력하기\n",
    "# 문자형 앞뒤로 붙임\n",
    "\n",
    "print(\"50\"+\"50\")"
   ]
  },
  {
   "cell_type": "code",
   "execution_count": 4,
   "metadata": {},
   "outputs": [
    {
     "name": "stdout",
     "output_type": "stream",
     "text": [
      "[50, 50]\n"
     ]
    }
   ],
   "source": [
    "# 리스트 [50]와 리스트 [50]을 더해서 출력하기\n",
    "# 리스트와 리스트를 연결\n",
    "\n",
    "print([50]+[50])"
   ]
  },
  {
   "cell_type": "markdown",
   "metadata": {},
   "source": [
    "#### 변수\n",
    "\n",
    "- 자료를 **그릇**에 담아서 보관 -> 이를 **변수**라고 한다.\n",
    "\n",
    "****변수 이름 = 자료(넣어준다 -대입)****\n",
    "\n",
    "- 변수 이름 짓는 방법\n",
    "****\n",
    "1. 변수이름이 숫자로 시작하면 안된다.\n",
    "2. 숫자로만 구성된 변수 이름 금지\n",
    "3. 파이썬 문법에서 사용되는 예약어 (for, while, if ....)\n",
    "4. 공백 문자()와 연산자 사용 금지\n",
    "****"
   ]
  },
  {
   "cell_type": "code",
   "execution_count": 5,
   "metadata": {},
   "outputs": [],
   "source": [
    "num = 10 # 숫자\n",
    "name = \"Michael\" #문자열\n",
    "grade = [\"A\",\"B\",\"C\"] #리스트"
   ]
  },
  {
   "cell_type": "code",
   "execution_count": null,
   "metadata": {},
   "outputs": [],
   "source": []
  },
  {
   "cell_type": "code",
   "execution_count": null,
   "metadata": {},
   "outputs": [],
   "source": []
  },
  {
   "cell_type": "code",
   "execution_count": null,
   "metadata": {},
   "outputs": [],
   "source": []
  },
  {
   "cell_type": "code",
   "execution_count": null,
   "metadata": {},
   "outputs": [],
   "source": []
  }
 ],
 "metadata": {
  "kernelspec": {
   "display_name": "Python 3",
   "language": "python",
   "name": "python3"
  },
  "language_info": {
   "codemirror_mode": {
    "name": "ipython",
    "version": 3
   },
   "file_extension": ".py",
   "mimetype": "text/x-python",
   "name": "python",
   "nbconvert_exporter": "python",
   "pygments_lexer": "ipython3",
   "version": "3.7.3"
  }
 },
 "nbformat": 4,
 "nbformat_minor": 2
}
