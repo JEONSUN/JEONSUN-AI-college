{
 "cells": [
  {
   "cell_type": "markdown",
   "metadata": {},
   "source": [
    "### 입력\n",
    "print를 통해 정보를 받았다면 이번엔 우리가 전달해보자\n",
    "\n",
    "input을 통해 전달하며 컴퓨터가 변수에 저장한다\n",
    "\n",
    "터미널 : 사람과 컴퓨터 사이에 통로"
   ]
  },
  {
   "cell_type": "code",
   "execution_count": 1,
   "metadata": {},
   "outputs": [
    {
     "name": "stdout",
     "output_type": "stream",
     "text": [
      "123\n"
     ]
    }
   ],
   "source": [
    "var = input()"
   ]
  },
  {
   "cell_type": "markdown",
   "metadata": {},
   "source": [
    "#### input()의 중요한 특징\n",
    "\n",
    "무엇을 입력하는 **문자열**로 입력 받아진다!\n",
    "\n",
    "숫자를 입력해야한다면 가공을 해줘야한다!\n",
    "\n",
    "***\n",
    "integer  # 숫자(정수)\n",
    "\n",
    "float # 숫자(실수)\n",
    "\n",
    "string # 문자열\n",
    "\n",
    "list # 리스트"
   ]
  },
  {
   "cell_type": "code",
   "execution_count": 2,
   "metadata": {},
   "outputs": [
    {
     "data": {
      "text/plain": [
       "str"
      ]
     },
     "execution_count": 2,
     "metadata": {},
     "output_type": "execute_result"
    }
   ],
   "source": [
    "a = '345'\n",
    "b = int('345')\n",
    "\n",
    "type(a)"
   ]
  },
  {
   "cell_type": "code",
   "execution_count": 3,
   "metadata": {},
   "outputs": [
    {
     "data": {
      "text/plain": [
       "int"
      ]
     },
     "execution_count": 3,
     "metadata": {},
     "output_type": "execute_result"
    }
   ],
   "source": [
    "type(b)"
   ]
  },
  {
   "cell_type": "code",
   "execution_count": 4,
   "metadata": {},
   "outputs": [
    {
     "name": "stdout",
     "output_type": "stream",
     "text": [
      "345\n",
      "690\n"
     ]
    }
   ],
   "source": [
    "#변수 money에 input을 이용해서 입력을 받아봅시다.\n",
    "money = input() #money안에 문자열\n",
    "\n",
    "# money를 int형으로 변환해서, 다시 money에 넣어줍시다.\n",
    "money = int(money) # money 안에 숫자열\n",
    "\n",
    "# money를 2배 불려서 print로 출력해봅시다.\n",
    "print(money * 2)\n"
   ]
  },
  {
   "cell_type": "markdown",
   "metadata": {},
   "source": [
    "### 논리 자료형\n",
    "\n",
    "참 혹은 거짓을 나타내는 자료형\n",
    "\n",
    "##### 비교 연산자\n",
    "\n",
    "- 숫자나 문자의 값을 비교하는 연산자\n",
    "\n",
    "주어진 진술이 참이면 True, 거짓이면 False\n",
    "\n",
    "|기호|의미|\n",
    "|----|----|\n",
    "|==|같다|\n",
    "|!=|다르다|\n",
    "|>|왼쪽이 크다|\n",
    "|<|왼쪽이 크다|\n",
    "|>=|왼쪽이 같거나 크다|\n",
    "|<=|오른쪽이이 같거나 크다|"
   ]
  },
  {
   "cell_type": "markdown",
   "metadata": {},
   "source": [
    "### 논리 자료형의 연산\n",
    "\n",
    "***\n",
    "1. AND - 각 논리가 모두 True여야 True\n",
    "\n",
    "2. OR - 논리들 중 True가 존재하면 True\n",
    "\n",
    "3. NOT - 논리값을 뒤집음 ex) print(not 3 == 4)이면 false이나 true로 전환"
   ]
  },
  {
   "cell_type": "markdown",
   "metadata": {},
   "source": [
    "### if 조건문\n",
    "\n",
    "- 조건이 True일 때, 명령 실행\n",
    "\n",
    "- if문에 들어갈 명령들은 같은 들여쓰기로 구분\n",
    "\n",
    "#### if문에서 조건을 만족하지 못하면?\n",
    "\n",
    "- 조건이 True일 때 if문 False면 else문 실행\n"
   ]
  },
  {
   "cell_type": "code",
   "execution_count": 5,
   "metadata": {},
   "outputs": [
    {
     "name": "stdout",
     "output_type": "stream",
     "text": [
      "abc\n"
     ]
    }
   ],
   "source": [
    "string = \"abc\"\n",
    "count = 0\n",
    "\n",
    "if string[0] == \"a\" :\n",
    "    count = count + 1\n",
    "    print(string)"
   ]
  },
  {
   "cell_type": "code",
   "execution_count": 6,
   "metadata": {},
   "outputs": [
    {
     "name": "stdout",
     "output_type": "stream",
     "text": [
      "b\n",
      "자음입니다\n"
     ]
    }
   ],
   "source": [
    "# if_else문\n",
    "x = input()\n",
    "if x in ['a','e','i','o','u'] :\n",
    "    print(\"모음입니다\")\n",
    "else :\n",
    "    print(\"자음입니다\")"
   ]
  },
  {
   "cell_type": "code",
   "execution_count": 7,
   "metadata": {},
   "outputs": [
    {
     "name": "stdout",
     "output_type": "stream",
     "text": [
      "수를 입력하세요 :3\n",
      "3은 홀수입니다\n"
     ]
    }
   ],
   "source": [
    "# 홀짝 판별기\n",
    "\n",
    "num = int(input(\"수를 입력하세요 :\"))\n",
    "\n",
    "if num % 2 == 0 :\n",
    "    print(\"%d는 짝수입니다\"% num)\n",
    "else :\n",
    "    print(\"%d은 홀수입니다\"% num)"
   ]
  },
  {
   "cell_type": "markdown",
   "metadata": {},
   "source": [
    "### if문에서 조건을 만족하지 못했을 때...\n",
    "\n",
    "ex) 점수가 75< **** <90인 경우\n",
    "\n",
    "- 조건 1이 True면 if문\n",
    "\n",
    "- 조건 1이 False이면서 조건 2가 True면 elif문 실행\n",
    "\n",
    "- 모든 조건이 False일 때 else를 사용한다."
   ]
  },
  {
   "cell_type": "code",
   "execution_count": 9,
   "metadata": {},
   "outputs": [
    {
     "name": "stdout",
     "output_type": "stream",
     "text": [
      "5\n",
      "2의 배수도 3의 배수도 아닙니다.\n"
     ]
    }
   ],
   "source": [
    "x = int(input())\n",
    "if x % 2 == 0 :\n",
    "    print(\"2의 배수입니다.\")\n",
    "elif x % 3 == 0 :\n",
    "    print(\"3의 배수입니다.\")\n",
    "else :\n",
    "    print(\"2의 배수도 3의 배수도 아닙니다.\")"
   ]
  },
  {
   "cell_type": "code",
   "execution_count": 12,
   "metadata": {},
   "outputs": [
    {
     "name": "stdout",
     "output_type": "stream",
     "text": [
      "10\n",
      "두 자리 숫자입니다.\n"
     ]
    }
   ],
   "source": [
    "# 자릿수 나타내기\n",
    "\n",
    "num = int(input())\n",
    "\n",
    "if num < 10 :\n",
    "    print(\"한 자리 숫자입니다.\")\n",
    "elif 10 <= num < 100 :\n",
    "    print(\"두 자리 숫자입니다.\")\n",
    "elif 100 <= num < 999 :\n",
    "    print(\"세 자리 숫자입니다.\")\n",
    "else :\n",
    "    print(\"세 자리를 넘어가는 숫자입니다.\")"
   ]
  }
 ],
 "metadata": {
  "kernelspec": {
   "display_name": "Python 3",
   "language": "python",
   "name": "python3"
  },
  "language_info": {
   "codemirror_mode": {
    "name": "ipython",
    "version": 3
   },
   "file_extension": ".py",
   "mimetype": "text/x-python",
   "name": "python",
   "nbconvert_exporter": "python",
   "pygments_lexer": "ipython3",
   "version": "3.7.3"
  }
 },
 "nbformat": 4,
 "nbformat_minor": 2
}
