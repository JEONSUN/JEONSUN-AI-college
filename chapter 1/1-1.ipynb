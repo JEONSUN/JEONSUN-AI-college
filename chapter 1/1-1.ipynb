{
 "cells": [
  {
   "cell_type": "markdown",
   "metadata": {},
   "source": [
    "숫자형은 연산이 가능하다\n",
    "\n",
    "문자열과 리스트는 \"\"/''와 []안에서 여러가지 원소를 가질 수 있고, 원소마다 **순서**를 가지고 있다."
   ]
  },
  {
   "cell_type": "code",
   "execution_count": 1,
   "metadata": {},
   "outputs": [
    {
     "name": "stdout",
     "output_type": "stream",
     "text": [
      "100\n"
     ]
    }
   ],
   "source": [
    "# 숫자 50과 50을 더해서 출력하기\n",
    "\n",
    "print(50+50)"
   ]
  },
  {
   "cell_type": "code",
   "execution_count": 2,
   "metadata": {},
   "outputs": [
    {
     "name": "stdout",
     "output_type": "stream",
     "text": [
      "5050\n"
     ]
    }
   ],
   "source": [
    "# 문자형 50과 50을 더해서 출력하기\n",
    "# 문자형 앞뒤로 붙임\n",
    "\n",
    "print(\"50\"+\"50\")"
   ]
  },
  {
   "cell_type": "code",
   "execution_count": 4,
   "metadata": {},
   "outputs": [
    {
     "name": "stdout",
     "output_type": "stream",
     "text": [
      "[50, 50]\n"
     ]
    }
   ],
   "source": [
    "# 리스트 [50]와 리스트 [50]을 더해서 출력하기\n",
    "# 리스트와 리스트를 연결\n",
    "\n",
    "print([50]+[50])"
   ]
  },
  {
   "cell_type": "markdown",
   "metadata": {},
   "source": [
    "#### 변수\n",
    "\n",
    "- 자료를 **그릇**에 담아서 보관 -> 이를 **변수**라고 한다.\n",
    "\n",
    "****변수 이름 = 자료(넣어준다 -대입)****\n",
    "\n",
    "- 변수 이름 짓는 방법\n",
    "****\n",
    "1. 변수이름이 숫자로 시작하면 안된다.\n",
    "2. 숫자로만 구성된 변수 이름 금지\n",
    "3. 파이썬 문법에서 사용되는 예약어 (for, while, if ....)\n",
    "4. 공백 문자()와 연산자 사용 금지\n",
    "****"
   ]
  },
  {
   "cell_type": "code",
   "execution_count": 5,
   "metadata": {},
   "outputs": [],
   "source": [
    "num = 10 # 숫자\n",
    "name = \"Michael\" #문자열\n",
    "grade = [\"A\",\"B\",\"C\"] #리스트"
   ]
  },
  {
   "cell_type": "markdown",
   "metadata": {},
   "source": [
    "#### 변수의 사용 방법"
   ]
  },
  {
   "cell_type": "code",
   "execution_count": 2,
   "metadata": {},
   "outputs": [
    {
     "name": "stdout",
     "output_type": "stream",
     "text": [
      "3.14\n"
     ]
    }
   ],
   "source": [
    "# my_var라는 변수를 만들기\n",
    "# 실수를 my_var에 넣음\n",
    "my_var = 3.14\n",
    "print(my_var)"
   ]
  },
  {
   "cell_type": "markdown",
   "metadata": {},
   "source": [
    "#### 변수끼리의 연산 또한 가능하다."
   ]
  },
  {
   "cell_type": "code",
   "execution_count": 3,
   "metadata": {},
   "outputs": [
    {
     "name": "stdout",
     "output_type": "stream",
     "text": [
      "3\n"
     ]
    }
   ],
   "source": [
    "# num1과 num2를 더하면!\n",
    "num1 = 1\n",
    "num2 = 2\n",
    "print(num1 + num2)"
   ]
  },
  {
   "cell_type": "markdown",
   "metadata": {},
   "source": [
    "### 자료형의 연산\n",
    "\n",
    "- 자료형마다 연산이 다름\n",
    "\n",
    "#### 수학의 사칙연산\n",
    "***\n",
    "|기호|연산|\n",
    "|--|-----|\n",
    "|+| 더하기|\n",
    "|-| 빼기|\n",
    "|*| 곱하기|\n",
    "/| 나누기|"
   ]
  },
  {
   "cell_type": "markdown",
   "metadata": {},
   "source": [
    "자연수 중 하나를 생각하고 있어\n",
    "그리고 그 수에서 **829176**을 더하고 **4927819**를 뺀 다음, **243**을 곱하고 **1024**로 나눴어\n",
    "그랬더니 **23571**이라는 수가 나오더라!"
   ]
  },
  {
   "cell_type": "code",
   "execution_count": 5,
   "metadata": {},
   "outputs": [
    {
     "name": "stdout",
     "output_type": "stream",
     "text": [
      "내가 생각한 답은 4197971.0 원이야\n"
     ]
    }
   ],
   "source": [
    "num1 = 23571\n",
    "num2 = num1*1024\n",
    "num3 = num2/243\n",
    "num4 = num3+4927819\n",
    "answer = num4 - 829176\n",
    "\n",
    "print(\"내가 생각한 답은\",answer, \"원이야\")"
   ]
  },
  {
   "cell_type": "markdown",
   "metadata": {},
   "source": [
    "#### 숫자형 자료의 특수연산\n",
    "\n",
    "****\n",
    "|기호|연산|\n",
    "|--|-----|\n",
    "|//| 몫 연산자|\n",
    "|%| 나머지 연산자|\n",
    "|**| 제곱 연산자|\n"
   ]
  },
  {
   "cell_type": "code",
   "execution_count": 6,
   "metadata": {},
   "outputs": [
    {
     "name": "stdout",
     "output_type": "stream",
     "text": [
      "2\n",
      "3\n",
      "16\n"
     ]
    }
   ],
   "source": [
    "print(13//5)\n",
    "print(13%5)\n",
    "print(2**4)"
   ]
  },
  {
   "cell_type": "code",
   "execution_count": 8,
   "metadata": {},
   "outputs": [
    {
     "name": "stdout",
     "output_type": "stream",
     "text": [
      "5\n"
     ]
    }
   ],
   "source": [
    "# indiv가 4가 되도록 //을 이용해 수식을 작성해보자\n",
    "indiv = 21 // 4\n",
    "print(indiv)"
   ]
  },
  {
   "cell_type": "code",
   "execution_count": 9,
   "metadata": {},
   "outputs": [
    {
     "name": "stdout",
     "output_type": "stream",
     "text": [
      "1\n"
     ]
    }
   ],
   "source": [
    "# modular가 1이 되도록 %를 이용해서 수식을 작성해보자\n",
    "modular = 10%3\n",
    "print(modular)"
   ]
  },
  {
   "cell_type": "code",
   "execution_count": 10,
   "metadata": {},
   "outputs": [
    {
     "name": "stdout",
     "output_type": "stream",
     "text": [
      "16\n"
     ]
    }
   ],
   "source": [
    "# expo가 16이 되도록 **를 이용해서 수식을 작성해보자\n",
    "expo = 4**2\n",
    "print(expo)"
   ]
  },
  {
   "cell_type": "markdown",
   "metadata": {},
   "source": [
    "### 문자형 자료의 연산\n",
    "\n",
    "****\n",
    "|기호|연산|\n",
    "|--|-----|\n",
    "|+|이어 붙이기 (with 문자열) |\n",
    "|*| 반복하기 (with 숫자열)|\n",
    "\n"
   ]
  },
  {
   "cell_type": "code",
   "execution_count": 14,
   "metadata": {},
   "outputs": [
    {
     "name": "stdout",
     "output_type": "stream",
     "text": [
      "덩덕쿵덕\n",
      "쿵덕쿵덕\n"
     ]
    }
   ],
   "source": [
    "print(\"덩덕\"+\"쿵덕\")\n",
    "print(\"쿵덕\"*2)"
   ]
  },
  {
   "cell_type": "markdown",
   "metadata": {},
   "source": [
    "#### 문자열 리스트 접근하기\n",
    "\n",
    "\"rescue\"와 \"secure\"은 다른 문자열 그러나 같은 원소로 이루어져있음\n",
    "[1,2,3]과 [3,2,1]은 다른 리스트 그러나 \"\"\n",
    "\n",
    "**원소의 배치 순서가 다르기 때문!**\n",
    "\n",
    "*************\n",
    "#### 인덱스\n",
    "\n",
    "각각의 위치를 0부터 순서대로 매길 수 있다 = **인덱스**\n",
    "\n",
    "특정 위치의 원소를 가져오는 방법\n",
    "string/list[index] \n",
    "#### index안에는 인덱스 번호 \n",
    "\n",
    "****************************\n",
    "#### 슬라이싱\n",
    "index를 이용해서 리스트나 문자열의 일부분을 잘라서 가져오는 방법\n",
    "\n",
    "string/list[a(시작 인덱스):b(종료 인덱스)]\n",
    "\n",
    "리스트를 슬라이싱하면 리스트\n",
    "\n",
    "문자열 슬라이싱시 문자열"
   ]
  },
  {
   "cell_type": "code",
   "execution_count": 15,
   "metadata": {},
   "outputs": [
    {
     "name": "stdout",
     "output_type": "stream",
     "text": [
      "[1, 2]\n"
     ]
    }
   ],
   "source": [
    "a = [1,2,3,4,5]\n",
    "print(a[0:2])"
   ]
  },
  {
   "cell_type": "code",
   "execution_count": 16,
   "metadata": {},
   "outputs": [],
   "source": [
    "#dahyun가 가지고 있는 보석 중에 특별히 빛나는 보석이 있어요! 이를 훔쳐볼까요?\n",
    "dahyun = ['은', '은', '다이아몬드', '은', '은', '은', '은', '은']\n",
    "\n",
    "#이 가방에 한번 넣어봅시다!\n",
    "stealBag1 = dahyun[2]"
   ]
  },
  {
   "cell_type": "code",
   "execution_count": 17,
   "metadata": {},
   "outputs": [],
   "source": [
    "#tzuyu는 금빛 보석을 많이 가지고 있네요! 이도 한번 훔쳐볼까요?\n",
    "tzuyu = ['은', '은', '은', '은', '금', '금', '금', '은', '은', '은']\n",
    "\n",
    "#이 가방에 한번 넣어봅시다!\n",
    "stealBag2 = tzuyu[4:7]"
   ]
  },
  {
   "cell_type": "code",
   "execution_count": 19,
   "metadata": {},
   "outputs": [
    {
     "name": "stdout",
     "output_type": "stream",
     "text": [
      "dahyun로부터 훔쳐온 보석은 ['다이아몬드']\n",
      "tzuyu로부터 훔쳐온 보석은 ['금', '금', '금']\n"
     ]
    }
   ],
   "source": [
    "#여러분이 훔쳐온 보석은 무엇인지 print()를 이용해서 한번 확인해보세요!\n",
    "print('dahyun로부터 훔쳐온 보석은', stealBag1)\n",
    "print('tzuyu로부터 훔쳐온 보석은', stealBag2)"
   ]
  },
  {
   "cell_type": "code",
   "execution_count": 23,
   "metadata": {},
   "outputs": [
    {
     "name": "stdout",
     "output_type": "stream",
     "text": [
      "*\n",
      "**\n",
      "***\n",
      "****\n",
      "*****\n"
     ]
    }
   ],
   "source": [
    "print(\"*\")\n",
    "print(\"*\"*2)\n",
    "print(\"*\"*3)\n",
    "print(\"*\"*4)\n",
    "print(\"*\"*5)"
   ]
  },
  {
   "cell_type": "code",
   "execution_count": 24,
   "metadata": {},
   "outputs": [
    {
     "name": "stdout",
     "output_type": "stream",
     "text": [
      "[18, 64.4]\n"
     ]
    }
   ],
   "source": [
    "# 화씨 F를 섭씨 C로 변환\n",
    "C = 18\n",
    "F = C * (9/5) + 32\n",
    "today_temp = [C,F]\n",
    "print(today_temp)"
   ]
  }
 ],
 "metadata": {
  "kernelspec": {
   "display_name": "Python 3",
   "language": "python",
   "name": "python3"
  },
  "language_info": {
   "codemirror_mode": {
    "name": "ipython",
    "version": 3
   },
   "file_extension": ".py",
   "mimetype": "text/x-python",
   "name": "python",
   "nbconvert_exporter": "python",
   "pygments_lexer": "ipython3",
   "version": "3.7.3"
  }
 },
 "nbformat": 4,
 "nbformat_minor": 2
}
