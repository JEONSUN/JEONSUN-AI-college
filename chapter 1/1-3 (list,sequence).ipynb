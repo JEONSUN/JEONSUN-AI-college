{
 "cells": [
  {
   "cell_type": "markdown",
   "metadata": {},
   "source": [
    "### 리스트 활용\n",
    "\n",
    "- 리스트는 순서가 있는 자료형이다."
   ]
  },
  {
   "cell_type": "markdown",
   "metadata": {},
   "source": [
    "#### 1. list.append(d)\n",
    "append - 덧붙이다.\n",
    "\n",
    "자료 d를 리스트 마지막 원소 뒤에 추가\n",
    "\n",
    "오직 **한 개의 자료**만 넣을 수 있다."
   ]
  },
  {
   "cell_type": "code",
   "execution_count": 1,
   "metadata": {},
   "outputs": [
    {
     "name": "stdout",
     "output_type": "stream",
     "text": [
      "[10] ['a', 'b', 'c', 'd']\n"
     ]
    }
   ],
   "source": [
    "a = [] # 빈 리스트\n",
    "\n",
    "b = ['a','b','c']\n",
    "\n",
    "a.append(10) # a리스트에 10을 추가\n",
    "b.append('d') # b리스트에 'd'를 추가\n",
    "print(a,b)"
   ]
  },
  {
   "cell_type": "markdown",
   "metadata": {},
   "source": [
    "#### 2. list.insert(i,d)\n",
    "\n",
    "인덱스 i에 자료 d를 추가\n",
    "\n",
    "오직 **한 개의 자료**만 넣을 수 있다."
   ]
  },
  {
   "cell_type": "code",
   "execution_count": 2,
   "metadata": {},
   "outputs": [
    {
     "name": "stdout",
     "output_type": "stream",
     "text": [
      "[1, 2, 3, 4, 5]\n"
     ]
    }
   ],
   "source": [
    "c = [1,2,4,5]\n",
    "\n",
    "c.insert(2,3) # c[2]에 3을 추가\n",
    "\n",
    "print(c)"
   ]
  },
  {
   "cell_type": "markdown",
   "metadata": {},
   "source": [
    "#### 3. list.remove(d)\n",
    "\n",
    "처음 나오는 자료 d를 제거 => **중복시 인덱스가 작은 원소를 제거한다.**"
   ]
  },
  {
   "cell_type": "code",
   "execution_count": 3,
   "metadata": {},
   "outputs": [
    {
     "name": "stdout",
     "output_type": "stream",
     "text": [
      "[1, 2, 3]\n"
     ]
    }
   ],
   "source": [
    "d = [3,1,2,3]\n",
    "d.remove(3) \n",
    "print(d) # remove를 통해 처음 나오는 3을 제거했다."
   ]
  },
  {
   "cell_type": "markdown",
   "metadata": {},
   "source": [
    "#### list.sort()\n",
    "\n",
    "리스트를 정렬\n",
    "\n",
    "숫자형은 **오름차순**, 문자열은 **사전순**\n",
    "\n",
    "ex)최대값을 알고싶을 때 마지막 값이 최대값이다. \n",
    "\n",
    "********\n",
    "**sort를 실행 할 시 같은 자료형이어야 비교를 통한 정렬이 가능하다.**\n",
    "\n",
    "-> 리스트 내부에 다른 자료형이 있을 시 사용이 불가능하다."
   ]
  },
  {
   "cell_type": "code",
   "execution_count": 4,
   "metadata": {},
   "outputs": [
    {
     "name": "stdout",
     "output_type": "stream",
     "text": [
      "[1, 2, 4, 6] ['apple', 'banana', 'carrot']\n"
     ]
    }
   ],
   "source": [
    "e = [6,2,4,1]\n",
    "f = ['carrot','apple','banana']\n",
    "\n",
    "# 각각의 리스트를 정렬\n",
    "e.sort()\n",
    "f.sort()\n",
    "# 숫자형은 오름차순 , 문자열은 a,b,c,d -> 사전순 정렬\n",
    "print(e,f)"
   ]
  },
  {
   "cell_type": "markdown",
   "metadata": {},
   "source": [
    "### 시퀀스 자료형\n",
    "\n",
    "- 순서가 있는 자료형\n",
    "\n",
    "- 문자열과 리스트를 묶어서 **시퀀스 자료형**이라고 한다.\n",
    "\n"
   ]
  },
  {
   "cell_type": "code",
   "execution_count": 5,
   "metadata": {},
   "outputs": [],
   "source": [
    "a = \"Once\" # 문자열 -> 순서가 있으므로 시퀀스\n",
    "b = [\"t\",\"w\",\"i\",\"c\",\"e\"] # 리스트 -> \"\"시퀀스\n",
    "c = (1,2,3,4,5) # 튜플 -> \"\" 시퀀스"
   ]
  },
  {
   "cell_type": "markdown",
   "metadata": {},
   "source": [
    "### 시퀀스의 특징\n",
    "\n",
    "#### 1. 원소간의 순서가 존재\n",
    "\n",
    "-> **인덱싱/슬라이싱**이 가능하다.\n",
    "\n",
    "인덱싱/슬라이싱을 할 때\n",
    "음수를 넣거나, 자리를 비우는 것도 가능하다."
   ]
  },
  {
   "cell_type": "code",
   "execution_count": 6,
   "metadata": {},
   "outputs": [
    {
     "name": "stdout",
     "output_type": "stream",
     "text": [
      "n\n",
      "['i', 'c']\n"
     ]
    }
   ],
   "source": [
    "a = \"Once\" \n",
    "b = [\"t\",\"w\",\"i\",\"c\",\"e\"]\n",
    "\n",
    "print(a[1]) \n",
    "print(b[2:4]) # b[2:4] 2이상 4미만"
   ]
  },
  {
   "cell_type": "code",
   "execution_count": 7,
   "metadata": {},
   "outputs": [
    {
     "name": "stdout",
     "output_type": "stream",
     "text": [
      "e\n",
      "['t', 'w', 'i']\n",
      "['i', 'c', 'e']\n"
     ]
    }
   ],
   "source": [
    "a = \"Once\" \n",
    "b = [\"t\",\"w\",\"i\",\"c\",\"e\"]\n",
    "\n",
    "print(a[-1]) # 뒤에서 1번째 원소\n",
    "print(b[:3]) # 처음부터 3번째 미만까지 슬라이싱\n",
    "print(b[2:]) # 2번째 자리 이상 슬라이싱"
   ]
  },
  {
   "cell_type": "markdown",
   "metadata": {},
   "source": [
    "#### 2. 멤버 조회\n",
    "\n",
    "in 연산자로 시퀀스 안에 원소가 있는지 확인 가능하다."
   ]
  },
  {
   "cell_type": "code",
   "execution_count": 8,
   "metadata": {},
   "outputs": [
    {
     "name": "stdout",
     "output_type": "stream",
     "text": [
      "True\n",
      "False\n"
     ]
    }
   ],
   "source": [
    "a = \"Once\" \n",
    "b = [\"t\",\"w\",\"i\",\"c\",\"e\"]\n",
    "\n",
    "print('O' in a) # 문자열 'O'가 문자열 a에 있는가?\n",
    "print('b' in b) # 'b'가 문자열 b에 있는가?"
   ]
  },
  {
   "cell_type": "markdown",
   "metadata": {},
   "source": [
    "#### 3. 길이 확인\n",
    "\n",
    "len 연산자로 시퀀스 안에 원소가 몇 개인지 확인 가능하다."
   ]
  },
  {
   "cell_type": "code",
   "execution_count": 9,
   "metadata": {},
   "outputs": [
    {
     "name": "stdout",
     "output_type": "stream",
     "text": [
      "4\n",
      "5\n"
     ]
    }
   ],
   "source": [
    "a = \"Once\" \n",
    "b = [\"t\",\"w\",\"i\",\"c\",\"e\"]\n",
    "\n",
    "print(len(a))\n",
    "print(len(b))"
   ]
  },
  {
   "cell_type": "markdown",
   "metadata": {},
   "source": [
    "#### 4. 연결 연산\n",
    "\n",
    "+연산자로 같은 시퀀스 두개를 이어 붙일 수 있다."
   ]
  },
  {
   "cell_type": "code",
   "execution_count": 10,
   "metadata": {},
   "outputs": [
    {
     "name": "stdout",
     "output_type": "stream",
     "text": [
      "['t', 'w', 'i', 'c', 'e']\n"
     ]
    }
   ],
   "source": [
    "c = ['t','w','i'] + ['c','e']\n",
    "print(c)"
   ]
  },
  {
   "cell_type": "markdown",
   "metadata": {},
   "source": [
    "#### 5. 반복 연산\n",
    "\n",
    "*연산자로 시퀀스를 반복할 수 있다."
   ]
  },
  {
   "cell_type": "code",
   "execution_count": 11,
   "metadata": {},
   "outputs": [
    {
     "name": "stdout",
     "output_type": "stream",
     "text": [
      "shyshyshy\n"
     ]
    }
   ],
   "source": [
    "d = \"shy\" * 3\n",
    "print(d)"
   ]
  }
 ],
 "metadata": {
  "kernelspec": {
   "display_name": "Python 3",
   "language": "python",
   "name": "python3"
  },
  "language_info": {
   "codemirror_mode": {
    "name": "ipython",
    "version": 3
   },
   "file_extension": ".py",
   "mimetype": "text/x-python",
   "name": "python",
   "nbconvert_exporter": "python",
   "pygments_lexer": "ipython3",
   "version": "3.7.3"
  }
 },
 "nbformat": 4,
 "nbformat_minor": 2
}
