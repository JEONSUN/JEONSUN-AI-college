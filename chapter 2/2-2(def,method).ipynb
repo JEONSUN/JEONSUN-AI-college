{
 "cells": [
  {
   "cell_type": "markdown",
   "metadata": {},
   "source": [
    "#### 프로그래밍의 기본 틀\n",
    "\n",
    "컴퓨터에게 정보를 입력하고, <br>컴퓨터가 작업을 하고 <br>컴퓨터가 작업 결과를 출력\n",
    "\n",
    "### 함수\n",
    "\n",
    "- 특정 기능을 수행하는 코드들의 모임\n",
    "\n",
    "### 함수의 구조\n",
    "\n",
    "len() - 자료를 넣으면 그 자료의 길이를 알려준다\n",
    "\n",
    "int() - 자료를 넣으면 정수형으로 변환해서 알려준다\n",
    "\n",
    "str() - 자료를 넣으면 문자형으로 변환해서 알려준다"
   ]
  },
  {
   "cell_type": "markdown",
   "metadata": {},
   "source": [
    "### 함수의 종류\n",
    "\n",
    "#### 내장함수\n",
    "\n",
    "- 파이썬 개발자들이 이미 만들어 둔 함수들\n",
    "***\n",
    "print()\n",
    "int()\n",
    "max()\n",
    "\n",
    "#### input()과 print()\n",
    "\n",
    "input() - 자료를 입력하는 함수<br>\n",
    "print() - 자료를 출력하는 함수\n",
    "\n",
    "#### max()와 min()\n",
    "\n",
    "max() - 시퀀스 자료의 최댓값을 구하는 함수<br>\n",
    "min() - 시퀀스 자료의 최솟값을 구하는 함수\n",
    "\n",
    "#### sum()과 len()\n",
    "\n",
    "sum() - 숫자 원소로 이루어진 시퀀스 자료의 합<br>\n",
    "len() - 시퀀스 자료의 길이를 구하는 함수\n",
    "\n",
    "#### 사용자 지정 함수\n",
    "\n",
    "- 사용자가 여러 코드로 묶어서 새로 만든 함수"
   ]
  },
  {
   "cell_type": "markdown",
   "metadata": {},
   "source": [
    "### 함수 만들기\n",
    "~~~python\n",
    "def 함수이름(매개변수):\n",
    "    <수행할 명령>\n",
    "    ...\n",
    "    return 반환값\n",
    "~~~\n",
    "\n",
    "매개변수를 이용해서 함수 내부로 값을 전달\n",
    "\n",
    "#### 함수 속 명령 작성\n",
    "\n",
    "같은 들여쓰기를 통해 명령 작성\n",
    "\n",
    "#### 함수의 반환(출력)\n",
    "\n",
    "함수 내부에서 일어난 일은 함수 외부에서 알 수가 없기 때문에<br>\n",
    "\n",
    "return을 이용해서 함수 외부로 값을 전달\n"
   ]
  },
  {
   "cell_type": "markdown",
   "metadata": {},
   "source": [
    "### 함수와 변수\n",
    "\n",
    "#### 전역 변수\n",
    "\n",
    "함수 밖에서 정의한 변수\n",
    "\n",
    "어디서든지 사용할 수 있는 변수\n",
    "~~~python\n",
    "x = \"Hi!\"\n",
    "def my_func(a) :\n",
    "    print(x)\n",
    "my_func() # Hi!\n",
    "print(x) # Hi!\n",
    "~~~\n",
    "\n",
    "### 지역 변수\n",
    "\n",
    "특정 구문(for문,함수...)안에서 정의한 변수\n",
    "\n",
    "변수를 정의한 범위안에서만 사용이 가능\n",
    "~~~python\n",
    "def my_func(a) :\n",
    "    x = \"Hi!\"\n",
    "    print(x)\n",
    "my_func() # Hi!\n",
    "print(x) # error\n",
    "~~~"
   ]
  },
  {
   "cell_type": "code",
   "execution_count": 9,
   "metadata": {},
   "outputs": [
    {
     "name": "stdout",
     "output_type": "stream",
     "text": [
      "서울 : 밥 먹었어요?\n",
      "부산 : 밥 뭇나?\n",
      "밥 먹었어요?\n"
     ]
    }
   ],
   "source": [
    "# 전역변수\n",
    "greeting = \"밥 먹었어요?\"\n",
    "\n",
    "print(\"서울 :\",greeting)\n",
    "\n",
    "# def 안에 greeting은 지역변수이다.\n",
    "def busan() :\n",
    "    greeting = \"밥 뭇나?\"\n",
    "    print(\"부산 :\",greeting)\n",
    "busan()\n",
    "\n",
    "# 여기서 실행하는 변수도 전역변수\n",
    "print(greeting)\n"
   ]
  },
  {
   "cell_type": "markdown",
   "metadata": {},
   "source": [
    "### 메서드(method)\n",
    "\n",
    "- 특정 자료에 대해 특정 기능을 하는 코드\n",
    "\n",
    "~~~python\n",
    "# ex\n",
    "my_list = [1,2,3]\n",
    "my_list.append(4)\n",
    "my_list.count(2)\n",
    "my_list.pop()\n",
    "~~~\n",
    "전부 특정 기능을 하는 메서드이다."
   ]
  },
  {
   "cell_type": "markdown",
   "metadata": {},
   "source": [
    "**함수**는 특정 기능을 한다<br>\n",
    "(매개변수를 이용해 자료를 전달해준다)<br>\n",
    "독립적으로 사용이 가능하다.\n",
    "~~~python\n",
    "len(my_list)\n",
    "sum(my_list)\n",
    "~~~\n",
    "\n",
    "**메서드**는 특정 자료와 연관 지어 기능을 한다.<br>\n",
    "(자료 뒤에 **.을 찍어** 사용한다)"
   ]
  },
  {
   "cell_type": "code",
   "execution_count": 10,
   "metadata": {},
   "outputs": [
    {
     "name": "stdout",
     "output_type": "stream",
     "text": [
      "dict_keys(['집', '노트북', '책']) dict_values(['home', 'notebook', 'book'])\n"
     ]
    }
   ],
   "source": [
    "# 사전자료 생성\n",
    "my_dict = {\"집\" : \"home\", \"노트북\" : \"notebook\", \"책\" : \"book\"}\n",
    "\n",
    "# dict의 key를 반환\n",
    "var1 = my_dict.keys()\n",
    "\n",
    "# dict의 value를 반환\n",
    "var2 = my_dict.values()\n",
    "print(var1,var2)\n",
    "\n"
   ]
  },
  {
   "cell_type": "code",
   "execution_count": 11,
   "metadata": {},
   "outputs": [
    {
     "name": "stdout",
     "output_type": "stream",
     "text": [
      "12 ['cham', 'cham', 'cham']\n"
     ]
    }
   ],
   "source": [
    "# a ,b 는 매개변수\n",
    "def solve(a,b) :\n",
    "    return a * b\n",
    "\n",
    "# 3,4는 인자    \n",
    "var1 = solve(3,4)\n",
    "var2 = solve(3,['cham'])\n",
    "\n",
    "print(var1,var2)"
   ]
  },
  {
   "cell_type": "code",
   "execution_count": 46,
   "metadata": {},
   "outputs": [
    {
     "name": "stdout",
     "output_type": "stream",
     "text": [
      "99\n"
     ]
    }
   ],
   "source": [
    "# 리스트 nums를 넣었을 때, 최댓값을 반환(return)하는 함수 our_max\n",
    "def our_max(nums) :\n",
    "    maxNum = -999999\n",
    "    for i in nums:\n",
    "        if i > maxNum :\n",
    "            maxNum = i\n",
    "    return maxNum\n",
    "\n",
    "\n",
    "# \n",
    "print(our_max([1, 2, 10, 9, 3, 7, 0, 99, 27, 85]))"
   ]
  },
  {
   "cell_type": "code",
   "execution_count": 82,
   "metadata": {},
   "outputs": [
    {
     "name": "stdout",
     "output_type": "stream",
     "text": [
      "486\n"
     ]
    },
    {
     "ename": "UnboundLocalError",
     "evalue": "local variable 'str4' referenced before assignment",
     "output_type": "error",
     "traceback": [
      "\u001b[1;31m---------------------------------------------------------------------------\u001b[0m",
      "\u001b[1;31mUnboundLocalError\u001b[0m                         Traceback (most recent call last)",
      "\u001b[1;32m<ipython-input-82-5d91055a1d8b>\u001b[0m in \u001b[0;36m<module>\u001b[1;34m\u001b[0m\n\u001b[0;32m     17\u001b[0m \u001b[1;31m# 채점을 위한 코드입니다. 이를 수정하지 마세요!\u001b[0m\u001b[1;33m\u001b[0m\u001b[1;33m\u001b[0m\u001b[1;33m\u001b[0m\u001b[0m\n\u001b[0;32m     18\u001b[0m \u001b[0mnums\u001b[0m \u001b[1;33m=\u001b[0m \u001b[0mint\u001b[0m\u001b[1;33m(\u001b[0m\u001b[0minput\u001b[0m\u001b[1;33m(\u001b[0m\u001b[1;33m)\u001b[0m\u001b[1;33m)\u001b[0m\u001b[1;33m\u001b[0m\u001b[1;33m\u001b[0m\u001b[0m\n\u001b[1;32m---> 19\u001b[1;33m \u001b[0mprint\u001b[0m\u001b[1;33m(\u001b[0m\u001b[0myoonHa\u001b[0m\u001b[1;33m(\u001b[0m\u001b[0mnums\u001b[0m\u001b[1;33m)\u001b[0m\u001b[1;33m)\u001b[0m\u001b[1;33m\u001b[0m\u001b[1;33m\u001b[0m\u001b[0m\n\u001b[0m",
      "\u001b[1;32m<ipython-input-82-5d91055a1d8b>\u001b[0m in \u001b[0;36myoonHa\u001b[1;34m(a)\u001b[0m\n\u001b[0;32m      8\u001b[0m         \u001b[0mstr3\u001b[0m\u001b[1;33m=\u001b[0m  \u001b[0mstr\u001b[0m\u001b[1;33m(\u001b[0m\u001b[0mprint\u001b[0m\u001b[1;33m(\u001b[0m\u001b[0mmy_dict\u001b[0m\u001b[1;33m[\u001b[0m\u001b[0mi\u001b[0m\u001b[1;33m]\u001b[0m\u001b[1;33m)\u001b[0m\u001b[1;33m)\u001b[0m\u001b[1;33m\u001b[0m\u001b[1;33m\u001b[0m\u001b[0m\n\u001b[0;32m      9\u001b[0m         \u001b[0mstr4\u001b[0m \u001b[1;33m=\u001b[0m \u001b[0mstr1\u001b[0m\u001b[1;33m+\u001b[0m\u001b[0mstr2\u001b[0m\u001b[1;33m+\u001b[0m\u001b[0mstr3\u001b[0m\u001b[1;33m\u001b[0m\u001b[1;33m\u001b[0m\u001b[0m\n\u001b[1;32m---> 10\u001b[1;33m     \u001b[1;32mreturn\u001b[0m \u001b[0mstr4\u001b[0m\u001b[1;33m\u001b[0m\u001b[1;33m\u001b[0m\u001b[0m\n\u001b[0m\u001b[0;32m     11\u001b[0m \u001b[1;33m\u001b[0m\u001b[0m\n\u001b[0;32m     12\u001b[0m \u001b[1;33m\u001b[0m\u001b[0m\n",
      "\u001b[1;31mUnboundLocalError\u001b[0m: local variable 'str4' referenced before assignment"
     ]
    }
   ],
   "source": [
    "# 비밀번호를 만들어주는 함수 yoonHa()를 만들어봅시다.\n",
    "def yoonHa(a) :\n",
    "    my_dict = {4:\"love\", 8:\"smile\", 6:\"kiss\"}\n",
    "    nums = \"\"\n",
    "    for i in nums:\n",
    "        str1 = str(print(my_dict[i]))\n",
    "        str2 = str(print(my_dict[i]))\n",
    "        str3=  str(print(my_dict[i]))\n",
    "        str4 = str1+str2+str3\n",
    "    return str4\n",
    "\n",
    "\n",
    "\n",
    "\n",
    "\n",
    "\n",
    "# 채점을 위한 코드입니다. 이를 수정하지 마세요!\n",
    "nums = int(input())\n",
    "print(yoonHa(nums))"
   ]
  },
  {
   "cell_type": "code",
   "execution_count": 73,
   "metadata": {},
   "outputs": [
    {
     "name": "stdout",
     "output_type": "stream",
     "text": [
      "love\n"
     ]
    }
   ],
   "source": [
    "print(my_dict[4])"
   ]
  },
  {
   "cell_type": "code",
   "execution_count": 75,
   "metadata": {},
   "outputs": [
    {
     "name": "stdout",
     "output_type": "stream",
     "text": [
      "4\n",
      "8\n",
      "6\n"
     ]
    }
   ],
   "source": [
    "for i in \"486\" :\n",
    "    print(i)"
   ]
  },
  {
   "cell_type": "code",
   "execution_count": 67,
   "metadata": {},
   "outputs": [
    {
     "name": "stdout",
     "output_type": "stream",
     "text": [
      "lovelovelove\n"
     ]
    }
   ],
   "source": [
    "str1 = \"\"\n",
    "str2 = \"love\"\n",
    "str1 = str2+str2+str2\n",
    "print(str1)"
   ]
  },
  {
   "cell_type": "code",
   "execution_count": 88,
   "metadata": {},
   "outputs": [
    {
     "name": "stdout",
     "output_type": "stream",
     "text": [
      "486\n",
      "lovelovelove\n"
     ]
    }
   ],
   "source": [
    "nums = int(input())\n",
    "\n",
    "my_dict = {4:\"love\", 8:\"smile\", 6:\"kiss\"}\n",
    "nums = \"\"\n",
    "for i in nums:\n",
    "    if i == 4:\n",
    "        str1 = str(print(my_dict[4]))\n",
    "    elif i == 8 :\n",
    "        str1 = str(print(my_dict[8]))\n",
    "    else :\n",
    "        str1 = str(print(my_dict[6]))\n",
    "print(str1)"
   ]
  }
 ],
 "metadata": {
  "kernelspec": {
   "display_name": "Python 3",
   "language": "python",
   "name": "python3"
  },
  "language_info": {
   "codemirror_mode": {
    "name": "ipython",
    "version": 3
   },
   "file_extension": ".py",
   "mimetype": "text/x-python",
   "name": "python",
   "nbconvert_exporter": "python",
   "pygments_lexer": "ipython3",
   "version": "3.7.3"
  }
 },
 "nbformat": 4,
 "nbformat_minor": 2
}
