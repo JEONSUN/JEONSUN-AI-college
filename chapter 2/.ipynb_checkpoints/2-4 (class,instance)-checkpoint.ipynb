{
 "cells": [
  {
   "cell_type": "markdown",
   "metadata": {},
   "source": [
    "### 객체지향 프로그래밍"
   ]
  },
  {
   "cell_type": "markdown",
   "metadata": {},
   "source": [
    "#### 객체\n",
    "\n",
    "- **성질**과 **할 수 있는 행동**이 담긴 자료\n",
    "\n",
    "성질 = 변수<br>\n",
    "행동 = 함수"
   ]
  },
  {
   "cell_type": "markdown",
   "metadata": {},
   "source": [
    "#### 클래스(class)\n",
    "\n",
    "- 객체를 만들 수 있는 **틀**\n",
    "\n",
    "ex) 사람이라면 말이야<br>\n",
    "성질 - >> 이름, 나이, 사는 곳, 취미<br>\n",
    "행동 - >> 밥 먹기, 운동하기, 잠자기, 취미활동하기\n",
    "\n",
    "#### 클래스 생성\n",
    "\n",
    "**class** 클래스 이름 :\n",
    "\n",
    "#### 필드(Field)\n",
    "객체가 가지고 있는 **성질**<br> = 객체가 가지고 있는 **변수**\n",
    "\n",
    "#### 메서드(method)\n",
    "객체가 할 수 있는 **행동**<br>\n",
    "= 객체가 할수 있는 **함수**\n",
    "\n",
    "#### self\n",
    "메서드라면 가져야하는 첫번째 매개변수\n",
    "\n",
    "#### 인스턴스(instance)\n",
    "객체를 만들 수 있는 **틀(클래스)**로 찍어낸 객체\n",
    "\n",
    "ex)\n",
    "붕어빵 틀 = 클래스<br>\n",
    "팥 붕어빵, 슈크림 붕어빵 = 인스턴스"
   ]
  },
  {
   "cell_type": "code",
   "execution_count": 12,
   "metadata": {},
   "outputs": [
    {
     "data": {
      "text/plain": [
       "'Bob'"
      ]
     },
     "execution_count": 12,
     "metadata": {},
     "output_type": "execute_result"
    }
   ],
   "source": [
    "# 클래스 생성\n",
    "# Human은 필드를 생성함으로 name과 age라는 성질을 가짐.\n",
    "\n",
    "class Human:\n",
    "    name= \"Bob\" \n",
    "    age= 10    "
   ]
  },
  {
   "cell_type": "code",
   "execution_count": 9,
   "metadata": {},
   "outputs": [],
   "source": [
    "# exercise라는 함수 정의.\n",
    "# Human이라는 class안에는 exercise라는 메소드를 명시함.\n",
    "\n",
    "class Human :\n",
    "    def exercise(self) : \n",
    "        print(\"스쿼시!\")"
   ]
  },
  {
   "cell_type": "markdown",
   "metadata": {},
   "source": [
    "#### 인스턴스 만들기\n",
    "인스턴스 이름 = 클래스 이름()\n",
    "\n",
    "#### 인스턴스의 변수\n",
    "인스턴스.변수"
   ]
  },
  {
   "cell_type": "code",
   "execution_count": 14,
   "metadata": {},
   "outputs": [
    {
     "data": {
      "text/plain": [
       "10"
      ]
     },
     "execution_count": 14,
     "metadata": {},
     "output_type": "execute_result"
    }
   ],
   "source": [
    "# 인스턴스 만들기\n",
    "# 인스턴스의 변수 - > 인스턴스의 필드\n",
    "class Human:\n",
    "    name= \"Bob\" \n",
    "    age= 10    \n",
    "bobby=Human()\n",
    "bobby.name # Bob\n",
    "bobby.age"
   ]
  },
  {
   "cell_type": "code",
   "execution_count": 16,
   "metadata": {},
   "outputs": [
    {
     "name": "stdout",
     "output_type": "stream",
     "text": [
      "스쿼시!\n"
     ]
    }
   ],
   "source": [
    "# 인스턴스의 메서드\n",
    "class Human :\n",
    "    def exercise(self) : \n",
    "        print(\"스쿼시!\")\n",
    "bobby = Human()\n",
    "bobby.exercise()"
   ]
  },
  {
   "cell_type": "markdown",
   "metadata": {},
   "source": [
    "#### class에서 값을 뽑아내서 인스턴스를 통해 바꿀 수 있다."
   ]
  },
  {
   "cell_type": "code",
   "execution_count": 17,
   "metadata": {},
   "outputs": [
    {
     "name": "stdout",
     "output_type": "stream",
     "text": [
      "age 10\n"
     ]
    }
   ],
   "source": [
    "# class Human\n",
    "class Human:\n",
    "    name = \"\"\n",
    "    age = 0\n",
    "    \n",
    "    def exercise(self):\n",
    "        return \"운동!\"\n",
    "        \n",
    "# instance Bobby\n",
    "bobby = Human()\n",
    "bobby.name = \"age\"\n",
    "bobby.age = 10\n",
    "\n",
    "print(bobby.name, bobby.age)"
   ]
  },
  {
   "cell_type": "markdown",
   "metadata": {},
   "source": [
    "### 왜 객체지향 프로그래밍인가?\n",
    "\n",
    "-상속, 다형성, 캡슐화를 통해 코드의 재사용이 쉽고\n",
    "우리 실생활을 더 잘 나타낼 수 있다!"
   ]
  },
  {
   "cell_type": "markdown",
   "metadata": {},
   "source": [
    "#### 상속\n",
    "\n",
    "- 한 클래스의 내용을 다른 클래스가 이어받는 것을 의미한다."
   ]
  },
  {
   "cell_type": "code",
   "execution_count": 18,
   "metadata": {},
   "outputs": [
    {
     "name": "stdout",
     "output_type": "stream",
     "text": [
      "자동차\n"
     ]
    }
   ],
   "source": [
    "# car라는 클래스에 type 자동차를 넣음\n",
    "class Car:\n",
    "    type = \"자동차\"\n",
    "\n",
    "# hyundai라는 클래스에는 아무것도 지정하지 않음\n",
    "class Hyundai(Car):\n",
    "    pass\n",
    "\n",
    "# sonata는 car -> hyundai를 통해 type 자동차를 상속받음.\n",
    "sonata = Hyundai()\n",
    "print(sonata.type) #자동차"
   ]
  },
  {
   "cell_type": "markdown",
   "metadata": {},
   "source": [
    "#### 다형성\n",
    "- 같은 모양의 코드가 다른 역할을 하는것을 의미한다."
   ]
  },
  {
   "cell_type": "code",
   "execution_count": 19,
   "metadata": {},
   "outputs": [
    {
     "name": "stdout",
     "output_type": "stream",
     "text": [
      "자동차\n",
      "700\n",
      "자동차\n",
      "100\n"
     ]
    }
   ],
   "source": [
    "# car라는 클래스에 horsepower를 100으로 입력\n",
    "class Car:\n",
    "    type = \"자동차\"\n",
    "    horsePower = 100\n",
    "\n",
    "# 람보르기니에서도 horsepower를 만든 후 700으로 수정\n",
    "class Lamborghini(Car):\n",
    "    horsePower = 700\n",
    "\n",
    "# 어떤 클래스냐, 객체냐에 따라서 값이 달라짐.\n",
    "aventador = Lamborghini()\n",
    "print(aventador.type) #자동차\n",
    "print(aventador.horsePower) #700\n",
    "\n",
    "# car로 할 경우\n",
    "aventador = Car()\n",
    "print(aventador.type) #자동차\n",
    "print(aventador.horsePower) #700"
   ]
  },
  {
   "cell_type": "code",
   "execution_count": 20,
   "metadata": {},
   "outputs": [
    {
     "name": "stdout",
     "output_type": "stream",
     "text": [
      "살랑살랑\n",
      "뚜벅뚜벅\n"
     ]
    }
   ],
   "source": [
    "# Animal 클래스 생성\n",
    "class Animal : \n",
    "    legs = 0\n",
    "    def walk(self) :\n",
    "        return \"\"\n",
    "\n",
    "# dog 클래스 생성\n",
    "class Dog(Animal) :\n",
    "    legs = 4\n",
    "    def walk(self) :\n",
    "        return \"살랑살랑\"\n",
    "\n",
    "# human 클래스 생성    \n",
    "class Human(Dog) :\n",
    "    legs = 2\n",
    "    def walk(self) :\n",
    "        return \"뚜벅뚜벅\"\n",
    "\n",
    "maltese = Dog()\n",
    "gildong = Human()\n",
    "\n",
    "# 객체에 따라 결과값이 다르다.\n",
    "print(maltese.walk())\n",
    "print(gildong.walk())"
   ]
  },
  {
   "cell_type": "markdown",
   "metadata": {},
   "source": [
    "#### 파이썬에서의 객체\n",
    "\n",
    "- 파이썬에서는 객체 단위로 정보를 관리한다.\n",
    "\n",
    "123\n",
    "'abc'\n",
    "[1,2,3]\n",
    "\n",
    "위에 수나 문자 모두 **객체**에 해당<br>\n",
    "위에 해당하는 자료형(int,str,list)는 모두 **클래스**에\n",
    "해당\n",
    "\n",
    "파이썬에서 모든 자료는 객체이므로\n",
    "메서드 사용이 가능하다!"
   ]
  },
  {
   "cell_type": "code",
   "execution_count": 25,
   "metadata": {},
   "outputs": [
    {
     "name": "stdout",
     "output_type": "stream",
     "text": [
      "[1, 2, 3]\n",
      "<class 'list'>\n"
     ]
    },
    {
     "data": {
      "text/plain": [
       "[1, 2, 3, 4]"
      ]
     },
     "execution_count": 25,
     "metadata": {},
     "output_type": "execute_result"
    }
   ],
   "source": [
    "nums = [1,2,3]\n",
    "\n",
    "# 객체의 값\n",
    "print(nums)\n",
    "# 클래스 'list' 출력\n",
    "print(type(nums))\n",
    "\n",
    "# 객체이기 떄문에 메서드 사용이 가능.\n",
    "nums.append(4)\n",
    "nums"
   ]
  },
  {
   "cell_type": "code",
   "execution_count": 31,
   "metadata": {},
   "outputs": [
    {
     "name": "stdout",
     "output_type": "stream",
     "text": [
      "팥\n",
      "슈크림\n",
      "self.taste 맛이 나요!\n",
      "None\n",
      "self.taste 맛이 나요!\n",
      "None\n"
     ]
    }
   ],
   "source": [
    "# 문제\n",
    "\n",
    "# 클래스 Bbread(붕어빵)을 만들어봅시다.\n",
    "# Bbread의 필드 taste를 생성하고, \"밀가루\"를 대입해봅시다.\n",
    "# Bbread의 메서드 eat()를 생성해봅시다. 이 메서드는 \"taste 맛이 나요!\"를 출력합니다.\n",
    "class Bbread :\n",
    "    taste = \"밀가루\"\n",
    "    def eat(self) :\n",
    "        print(\"self.taste 맛이 나요!\")\n",
    "\n",
    "\n",
    "\n",
    "# 클래스 Bbread의 인스턴스 redBean과 choux를 만들어봅시다.\n",
    "redBean = Bbread()\n",
    "choux = Bbread()\n",
    "\n",
    "# 객체 redBean의 필드 taste를 \"팥\"으로 바꿔줍시다\n",
    "redBean.taste = \"팥\"\n",
    "print(redBean.taste)\n",
    "# 객체 choux의 필드 taste를 \"슈크림\"으로 바꿔줍시다\n",
    "choux.taste = \"슈크림\"\n",
    "print(choux.taste)\n",
    "# 객체 redBean의 메서드 eat()를 실행해봅시다\n",
    "print(redBean.eat())\n",
    "\n",
    "# 객체 choux의 메서드 eat()를 실행해봅시다\n",
    "print(choux.eat())"
   ]
  }
 ],
 "metadata": {
  "kernelspec": {
   "display_name": "Python 3",
   "language": "python",
   "name": "python3"
  },
  "language_info": {
   "codemirror_mode": {
    "name": "ipython",
    "version": 3
   },
   "file_extension": ".py",
   "mimetype": "text/x-python",
   "name": "python",
   "nbconvert_exporter": "python",
   "pygments_lexer": "ipython3",
   "version": "3.7.3"
  }
 },
 "nbformat": 4,
 "nbformat_minor": 2
}
