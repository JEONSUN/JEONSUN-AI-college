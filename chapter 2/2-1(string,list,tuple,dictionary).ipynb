{
 "cells": [
  {
   "cell_type": "markdown",
   "metadata": {},
   "source": [
    "### 문자열 / 리스트 활용\n",
    "\n",
    "#### list.pop(i)\n",
    "\n",
    "- 인덱스 i의 원소를 제거 후 그 원소를 반환"
   ]
  },
  {
   "cell_type": "code",
   "execution_count": 3,
   "metadata": {},
   "outputs": [
    {
     "name": "stdout",
     "output_type": "stream",
     "text": [
      "[1, 2, 3, 4, 5]\n",
      "1\n",
      "5\n"
     ]
    }
   ],
   "source": [
    "my_list = [1,2,3,4,5]\n",
    "\n",
    "print(my_list)\n",
    "# 1번째 원소를 지우겠다.\n",
    "print(my_list.pop(0))\n",
    "# 괄호를 비울시 마지막 리스트 원소를 지움\n",
    "print(my_list.pop()) "
   ]
  },
  {
   "cell_type": "code",
   "execution_count": 9,
   "metadata": {},
   "outputs": [
    {
     "name": "stdout",
     "output_type": "stream",
     "text": [
      "[1, 2, 2, 3, 3]\n",
      "[1, 2, 2, 3]\n",
      "[1, 2, 3]\n"
     ]
    }
   ],
   "source": [
    "# 1,2,2,3,3,3이 담긴 리스트에서 [1,2,3]만 남기기\n",
    "\n",
    "my_list = [1,2,2,3,3,3]\n",
    "my_list.pop() # 가장 끝에 3부터 제거\n",
    "print(my_list)\n",
    "my_list.pop() # 그다음 가장 끝에 3제거\n",
    "print(my_list)\n",
    "my_list.pop(1) # 1번째 2 제거\n",
    "print(my_list)"
   ]
  },
  {
   "cell_type": "markdown",
   "metadata": {},
   "source": [
    "#### seq.count(d)\n",
    "\n",
    "- 시퀀스 내부의 자료 d의 개수를 반환"
   ]
  },
  {
   "cell_type": "code",
   "execution_count": 4,
   "metadata": {},
   "outputs": [
    {
     "name": "stdout",
     "output_type": "stream",
     "text": [
      "3\n"
     ]
    }
   ],
   "source": [
    "# my_seq안에 2라는 자료 개수 확인하기\n",
    "my_seq = [2,2,2,4,4]\n",
    "\n",
    "print(my_seq.count(2)) "
   ]
  },
  {
   "cell_type": "markdown",
   "metadata": {},
   "source": [
    "####  str.split(c)\n",
    "\n",
    "- c를 기준으로 문자열을 쪼개서 리스트로 반환\n",
    "\n",
    "문자열 -> 리스트로 변함\n",
    "\n",
    "****\n",
    "str => 쪼갤 문자열\n",
    "\n",
    "c => 기준"
   ]
  },
  {
   "cell_type": "code",
   "execution_count": 6,
   "metadata": {},
   "outputs": [
    {
     "name": "stdout",
     "output_type": "stream",
     "text": [
      "['1', '2', '3', '4', '5']\n",
      "['Na', ' Mg', 'Al', 'Si']\n"
     ]
    }
   ],
   "source": [
    "my_str = \"1 2 3 4 5\"\n",
    "\n",
    "print(my_str.split()) # 공백을 기준으로 분리\n",
    "\n",
    "element  = \"Na, Mg,Al,Si\"\n",
    "print(element.split(\",\")) # ','를 기준으로 분리"
   ]
  },
  {
   "cell_type": "markdown",
   "metadata": {},
   "source": [
    "#### str.join(list)\n",
    "\n",
    "- str을 기준으로 리스트를 합쳐서 문자열을 반환\n",
    "\n",
    "(괄호를 비울 시 공백)\n",
    "\n",
    "***\n",
    "str => 기준\n",
    "\n",
    "list => 붙일 리스트"
   ]
  },
  {
   "cell_type": "code",
   "execution_count": 8,
   "metadata": {},
   "outputs": [
    {
     "name": "stdout",
     "output_type": "stream",
     "text": [
      "apple\n",
      "pat&mat\n"
     ]
    }
   ],
   "source": [
    "my_list = [\"a\",\"p\",\"p\",\"l\",\"e\"] # 리스트\n",
    "print(\"\".join(my_list)) # apple # 문자열\n",
    "\n",
    "friend = ['pat','mat']\n",
    "print('&'.join(friend)) # pat&mat"
   ]
  },
  {
   "cell_type": "code",
   "execution_count": 12,
   "metadata": {},
   "outputs": [
    {
     "name": "stdout",
     "output_type": "stream",
     "text": [
      "['b', '', 't', 'a']\n",
      "Seeing is Believing\n"
     ]
    }
   ],
   "source": [
    "my_str = \"beetea\"\n",
    "\n",
    "var1 = my_str.split(\"e\")\n",
    "print(my_str.split(\"e\")) # e를 기준으로 분리\n",
    "my_list = [\"Seeing\", \"is\",\"Believing\"]\n",
    "var2 = \" \".join(my_list) # 공백으로 리스트를 문자열로 이음\n",
    "print(\" \".join(my_list))"
   ]
  },
  {
   "cell_type": "code",
   "execution_count": 2,
   "metadata": {},
   "outputs": [
    {
     "data": {
      "text/plain": [
       "['낙엽을',\n",
       " '닮은',\n",
       " '너의',\n",
       " '눈동자를',\n",
       " '나는',\n",
       " '정말',\n",
       " '정말',\n",
       " '좋아했었어',\n",
       " '가을을',\n",
       " '닮은',\n",
       " '너의',\n",
       " '목소리를',\n",
       " '나는',\n",
       " '아직',\n",
       " '아직',\n",
       " '잊지',\n",
       " '못했어',\n",
       " '같이',\n",
       " '걸으면서',\n",
       " '들었던',\n",
       " '낙엽',\n",
       " '소리가',\n",
       " '내',\n",
       " '귓가에',\n",
       " '들려오는',\n",
       " '것만',\n",
       " '같아',\n",
       " '함께',\n",
       " '앉아',\n",
       " '있던',\n",
       " '좁다란',\n",
       " '나무',\n",
       " '벤치엔',\n",
       " '너의',\n",
       " '온기가',\n",
       " '남아있는',\n",
       " '것만',\n",
       " '같아',\n",
       " '낙엽을',\n",
       " '닮은',\n",
       " '너의',\n",
       " '눈동자를',\n",
       " '나는',\n",
       " '정말',\n",
       " '정말',\n",
       " '좋아했었어',\n",
       " '가을을',\n",
       " '닮은',\n",
       " '너의',\n",
       " '목소리를',\n",
       " '나는',\n",
       " '아직',\n",
       " '아직',\n",
       " '잊지',\n",
       " '못했어']"
      ]
     },
     "execution_count": 2,
     "metadata": {},
     "output_type": "execute_result"
    }
   ],
   "source": [
    "lyrics = \"낙엽을,닮은,너의,눈동자를,나는,정말,정말,좋아했었어,가을을,닮은,너의,목소리를,나는,아직,아직,잊지,못했어,같이,걸으면서,들었던,낙엽,소리가,내,귓가에,들려오는,것만,같아,함께,앉아,있던,좁다란,나무,벤치엔,너의,온기가,남아있는,것만,같아,낙엽을,닮은,너의,눈동자를,나는,정말,정말,좋아했었어,가을을,닮은,너의,목소리를,나는,아직,아직,잊지,못했어\"\n",
    "\n",
    "my_list = lyrics.split(\",\")\n",
    "my_list"
   ]
  },
  {
   "cell_type": "markdown",
   "metadata": {},
   "source": [
    "### tuple\n",
    "\n",
    "리스트를 이용시 값이 바뀌는 위험이 있다. -> 튜플이라는 자료형이 생겼다.\n",
    "\n",
    "튜플은 여러 자료를 함께 담을 수 있는 자료형이다.\n",
    "\n",
    "() - 소괄호로 묶어서 표현한다."
   ]
  },
  {
   "cell_type": "code",
   "execution_count": 3,
   "metadata": {},
   "outputs": [],
   "source": [
    "tuple_zero =() # 빈 튜플\n",
    "tuple_one = (1,) # a = 1 <- 원소가 하나임을 입력하려면 ,를 반드시 써줘야함.\n",
    "tuple_ = (1,2,3,4,5)\n",
    "tuple_ = 1,2,3,4,5 # 파이썬은 알아서 tuple로 인식함"
   ]
  },
  {
   "cell_type": "markdown",
   "metadata": {},
   "source": [
    "### tuple의 특징\n",
    "\n",
    "- 시퀀스 자료형으로 index를 이용한 인덱싱이나 슬라이싱이 가능하다."
   ]
  },
  {
   "cell_type": "code",
   "execution_count": 4,
   "metadata": {},
   "outputs": [
    {
     "name": "stdout",
     "output_type": "stream",
     "text": [
      "w\n",
      "('i', 'c')\n"
     ]
    }
   ],
   "source": [
    "# 튜플의 인덱싱과 슬라이싱\n",
    "my_tuple = (\"t\",\"w\",\"i\",\"c\",\"e\")\n",
    "    \n",
    "print(my_tuple[1])\n",
    "print(my_tuple[2:4])"
   ]
  },
  {
   "cell_type": "markdown",
   "metadata": {},
   "source": [
    "- in 연산자 len 연산자도 사용이 가능하며 +,*연산자로 연결과 반복도 가능하다."
   ]
  },
  {
   "cell_type": "code",
   "execution_count": 5,
   "metadata": {},
   "outputs": [
    {
     "name": "stdout",
     "output_type": "stream",
     "text": [
      "True\n",
      "5\n"
     ]
    }
   ],
   "source": [
    "# in,len연산자\n",
    "print(\"t\" in my_tuple)\n",
    "print(len(my_tuple))"
   ]
  },
  {
   "cell_type": "code",
   "execution_count": 6,
   "metadata": {},
   "outputs": [
    {
     "name": "stdout",
     "output_type": "stream",
     "text": [
      "('e', 'l', 'i', 'c', 'e')\n",
      "('i', 'c', 'e', 'i', 'c', 'e')\n"
     ]
    }
   ],
   "source": [
    "my_tuple = (\"i\",\"c\",\"e\")\n",
    "print((\"e\",\"l\") + my_tuple)\n",
    "print(my_tuple * 2)"
   ]
  },
  {
   "cell_type": "markdown",
   "metadata": {},
   "source": [
    "#### 리스트와 달리 튜플은 자료추가, 삭제, 변경이 불가능하다.\n",
    "\n",
    "**append**나 **remove**, 인덱싱을 통한 값 변경이 불가능하다!"
   ]
  },
  {
   "cell_type": "markdown",
   "metadata": {},
   "source": [
    "### 딕셔너리\n",
    "\n",
    "- 짝꿍이 있는 자료형\n",
    "\n",
    "{key : value}의 형식 : key를 알면 value를 알 수 있음.\n",
    "\n",
    "**key**\n",
    "\n",
    "- 열쇠처럼 자료를 꺼낼 수 있는 도구\n",
    "\n",
    "**value**\n",
    "\n",
    "- dictionary에서 key로 꺼낸 자료\n",
    "\n",
    "**dictionary[key]**\n",
    "\n",
    "- dictionary에서 자료를 꺼내기"
   ]
  },
  {
   "cell_type": "code",
   "execution_count": 16,
   "metadata": {},
   "outputs": [],
   "source": [
    "dict_zero = {}\n",
    "\n",
    "person = {'name' : \"michael\" , 'age' : 10}"
   ]
  },
  {
   "cell_type": "code",
   "execution_count": 17,
   "metadata": {},
   "outputs": [
    {
     "name": "stdout",
     "output_type": "stream",
     "text": [
      "10\n"
     ]
    }
   ],
   "source": [
    "# 키로 자료를 꺼내기\n",
    "print(person['age'])"
   ]
  },
  {
   "cell_type": "code",
   "execution_count": 18,
   "metadata": {},
   "outputs": [
    {
     "data": {
      "text/plain": [
       "{'name': 'michael', 'age': 10, 'hometown': 'Seoul'}"
      ]
     },
     "execution_count": 18,
     "metadata": {},
     "output_type": "execute_result"
    }
   ],
   "source": [
    "# dictonary에 추가하기\n",
    "person = {'name' : \"michael\" , 'age' : 10}\n",
    "person['hometown'] = 'Seoul'\n",
    "person"
   ]
  },
  {
   "cell_type": "markdown",
   "metadata": {},
   "source": [
    "#### del\n",
    "\n",
    "dictionary에서 원소 삭제"
   ]
  },
  {
   "cell_type": "code",
   "execution_count": 19,
   "metadata": {},
   "outputs": [
    {
     "data": {
      "text/plain": [
       "{'name': 'michael', 'hometown': 'Seoul'}"
      ]
     },
     "execution_count": 19,
     "metadata": {},
     "output_type": "execute_result"
    }
   ],
   "source": [
    "# 원소 삭제하기\n",
    "\n",
    "del person['age']\n",
    "person"
   ]
  },
  {
   "cell_type": "markdown",
   "metadata": {},
   "source": [
    "### dictionary의 특징\n",
    "\n",
    "key는 변할수 없는 자료형\n",
    "\n",
    "-> 리스트는 안되고 튜플은 된다!\n",
    "\n",
    "-> 리스트는 변할 수가 있으므로"
   ]
  },
  {
   "cell_type": "code",
   "execution_count": 22,
   "metadata": {},
   "outputs": [
    {
     "ename": "TypeError",
     "evalue": "unhashable type: 'list'",
     "output_type": "error",
     "traceback": [
      "\u001b[1;31m---------------------------------------------------------------------------\u001b[0m",
      "\u001b[1;31mTypeError\u001b[0m                                 Traceback (most recent call last)",
      "\u001b[1;32m<ipython-input-22-b975719d1ca0>\u001b[0m in \u001b[0;36m<module>\u001b[1;34m\u001b[0m\n\u001b[1;32m----> 1\u001b[1;33m \u001b[0mdatas\u001b[0m \u001b[1;33m=\u001b[0m \u001b[1;33m{\u001b[0m\u001b[1;33m[\u001b[0m\u001b[1;36m1\u001b[0m\u001b[1;33m,\u001b[0m\u001b[1;36m2\u001b[0m\u001b[1;33m,\u001b[0m\u001b[1;36m3\u001b[0m\u001b[1;33m]\u001b[0m \u001b[1;33m:\u001b[0m \u001b[1;34m\"alphabet\"\u001b[0m\u001b[1;33m}\u001b[0m\u001b[1;33m\u001b[0m\u001b[1;33m\u001b[0m\u001b[0m\n\u001b[0m\u001b[0;32m      2\u001b[0m \u001b[0mdatas\u001b[0m \u001b[1;33m=\u001b[0m \u001b[1;33m{\u001b[0m\u001b[1;33m(\u001b[0m\u001b[1;36m1\u001b[0m\u001b[1;33m,\u001b[0m\u001b[1;36m2\u001b[0m\u001b[1;33m,\u001b[0m\u001b[1;36m3\u001b[0m\u001b[1;33m)\u001b[0m \u001b[1;33m:\u001b[0m \u001b[1;34m\"number\"\u001b[0m\u001b[1;33m}\u001b[0m\u001b[1;33m\u001b[0m\u001b[1;33m\u001b[0m\u001b[0m\n",
      "\u001b[1;31mTypeError\u001b[0m: unhashable type: 'list'"
     ]
    }
   ],
   "source": [
    "datas = {[1,2,3] : \"alphabet\"}\n",
    "datas = {(1,2,3) : \"number\"}"
   ]
  },
  {
   "cell_type": "code",
   "execution_count": 6,
   "metadata": {},
   "outputs": [
    {
     "name": "stdout",
     "output_type": "stream",
     "text": [
      "안녕\n",
      "안녕\n",
      "우린 너를 사랑해\n",
      "고마워\n",
      "잘가\n",
      "잘가\n"
     ]
    }
   ],
   "source": [
    "cvs = [\"Bello\", \"Bello\", \"Tulaliloo_ti_amo\", \"Tank_yu\", \"Poopaye\", \"Poopaye\"]\n",
    "\n",
    "# Minionese와 한국어가 담긴 miniWord 딕셔너리를 만드세요.\n",
    "miniWord = {\"Bello\":\"안녕\",\"Poopaye\":\"잘가\",\"Tank_yu\":\"고마워\",\"Tulaliloo_ti_amo\":\"우린 너를 사랑해\"}\n",
    "miniWord\n",
    "\n",
    "for i in cvs :\n",
    "    print(miniWord[i])"
   ]
  }
 ],
 "metadata": {
  "kernelspec": {
   "display_name": "Python 3",
   "language": "python",
   "name": "python3"
  },
  "language_info": {
   "codemirror_mode": {
    "name": "ipython",
    "version": 3
   },
   "file_extension": ".py",
   "mimetype": "text/x-python",
   "name": "python",
   "nbconvert_exporter": "python",
   "pygments_lexer": "ipython3",
   "version": "3.7.3"
  }
 },
 "nbformat": 4,
 "nbformat_minor": 2
}
