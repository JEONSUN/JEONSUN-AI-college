{
 "cells": [
  {
   "cell_type": "markdown",
   "metadata": {},
   "source": [
    "### 퍼셉트론\n",
    "\n",
    "인공신경망 시스템은 동물의 신경계 시스템을 모사하여 설계\n",
    "\n",
    "x를 입력받아 내부의 어떤 함수를 거쳐 activation이 일어나게됨 -> activation이 일어난다면 그 신호를 아웃풋으로 내보내고 일어나지않는다면 내보내지않음."
   ]
  },
  {
   "cell_type": "markdown",
   "metadata": {},
   "source": [
    "\n",
    "\n",
    "\n",
    "|변수|의미|\n",
    "|----|----|\n",
    "|$x_1$,$x_2$|데이터에서 주어지는 입력 값 혹은 이전 뉴런|\n",
    "|$w_1$,$w_2$|가중치(퍼셉트론의 특성을 결정)|\n",
    "|B|Bias(퍼셉트론의 특성을 결정)|\n",
    "|y|출력 값|\n",
    "\n",
    "\n",
    "$y$ $=$ $activation(w_1x_1 + w_2x_2 + B)$<BR> \n",
    "입력값을 선형 변환해서 activation이 되나 안되나를 결정.\n",
    "    \n",
    "**activation** : 어떤 임의의 값을 받았을때 1과 0을 배출\n",
    "\n",
    "activation function이 0보다 클 경우 1을 내보냄(활성화)<br>\n",
    "activation function이 0과 같거나 0보다 작을 경우 0을 내보냄(활성화 x)\n",
    "\n",
    "\n"
   ]
  },
  {
   "cell_type": "markdown",
   "metadata": {},
   "source": [
    "~~~ python\n",
    "# 퍼셉트론 파이썬 코드\n",
    "\n",
    "# x = 입력값 , weigths : [B,w1,w2]\n",
    "def perceptron(x, weights) :\n",
    "    sum_ = weights[0] # bias\n",
    "    for i in range(len(x) - 1) :\n",
    "# pre_y = $w_1x_1 + w_2x_2 + B$\n",
    "    pre_y += weights[i + 1]*x[i]\n",
    "    return 1.0 if pre_y >= 0.0 else 0.0\n",
    "\n",
    "# 입력과 weights의 값에 따라 1또는 0을 내보냄\n",
    "\n",
    "~~~\n",
    "|변수|값|의미|\n",
    "|----|------|----|\n",
    "|$x_1$|1|비가 온다|\n",
    "|$x_2$|1|여친이 만나자고 한다|\n",
    "|$w_1$|-5|비를 좋아하는 정도|\n",
    "|$x_2$|6|여친을 좋아하는 정도|\n",
    "|B|-2|외출을 좋아하는 정도|\n",
    "|y|activation(-1)=0|외출하지 않는다|\n",
    "\n",
    "$y$ $=$ $activation(w_1x_1 + w_2x_2 + B)$<br>\n",
    "$-5*1+6*1+(-2) = -1$이므로 외출하지 않을 것이다(0)를 내보냄. \n"
   ]
  },
  {
   "cell_type": "code",
   "execution_count": null,
   "metadata": {},
   "outputs": [],
   "source": []
  },
  {
   "cell_type": "code",
   "execution_count": null,
   "metadata": {},
   "outputs": [],
   "source": []
  },
  {
   "cell_type": "code",
   "execution_count": null,
   "metadata": {},
   "outputs": [],
   "source": []
  },
  {
   "cell_type": "code",
   "execution_count": null,
   "metadata": {},
   "outputs": [],
   "source": []
  }
 ],
 "metadata": {
  "kernelspec": {
   "display_name": "Python 3",
   "language": "python",
   "name": "python3"
  },
  "language_info": {
   "codemirror_mode": {
    "name": "ipython",
    "version": 3
   },
   "file_extension": ".py",
   "mimetype": "text/x-python",
   "name": "python",
   "nbconvert_exporter": "python",
   "pygments_lexer": "ipython3",
   "version": "3.7.3"
  }
 },
 "nbformat": 4,
 "nbformat_minor": 2
}
