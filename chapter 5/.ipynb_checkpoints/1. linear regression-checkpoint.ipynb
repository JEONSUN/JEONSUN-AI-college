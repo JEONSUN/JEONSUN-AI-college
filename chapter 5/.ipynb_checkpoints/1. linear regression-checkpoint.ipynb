{
 "cells": [
  {
   "cell_type": "markdown",
   "metadata": {},
   "source": [
    "### 회귀분석"
   ]
  },
  {
   "cell_type": "markdown",
   "metadata": {},
   "source": [
    "#### 단순선형회귀분석(simple linear regression)\n",
    "\n",
    "데이터를 가장 잘 설명하는 어떤 선을 찾는다.\n",
    "\n",
    "ex) 광고 분석과 판매량<br>\n",
    "광고에 얼마를 투자하면 상품이 얼마나 팔릴까?\n",
    "\n",
    "N : 데이터의 개수 <br> \n",
    "X : input; 데이터/feature, \"광고료\"<br>\n",
    "Y : output; 해답/응답, \"판매량\"<br>\n",
    "(x^i,y^i) : i번째 데이터"
   ]
  },
  {
   "cell_type": "markdown",
   "metadata": {},
   "source": [
    "#### 문제 정의\n",
    "\n",
    "데이터 : N개의 FB 광고 예산(x)과 판매량(y)<br>\n",
    "목표 : 광고에 얼마를 투자했을 때 얼마나 팔릴까?\n",
    "\n",
    "\n",
    "광고 예산 -> **학습된 모델** -> 판매량\n",
    "\n",
    "**가정** : TV 광고 예산과 판매량은 **선형적** 관계를 가진다\n",
    "\n",
    "**$Y = \\beta_0X + \\beta_1$**"
   ]
  },
  {
   "cell_type": "code",
   "execution_count": 2,
   "metadata": {},
   "outputs": [],
   "source": [
    "# 라이브러리\n",
    "import matplotlib as mpl\n",
    "mpl.use(\"Agg\")\n",
    "import matplotlib.pyplot as plt\n",
    "import numpy as np\n",
    "\n",
    "# 데이터\n",
    "X = [8.70153760, 3.90825773, 1.89362433, 3.28730045, 7.39333004, 2.98984649, 2.25757240, 9.84450732, 9.94589513, 5.48321616]\n",
    "Y = [5.64413093, 3.75876583, 3.87233310, 4.40990425, 6.43845020, 4.02827829, 2.26105955, 7.15768995, 6.29097441, 5.19692852]\n",
    "\n",
    "'''\n",
    "beta_0과 beta_1 을 변경하면서 그래프에 표시되는 선을 확인해 봅니다.\n",
    "기울기와 절편의 의미를 이해합니다.\n",
    "'''\n",
    "\n",
    "beta_0 = 1   # 기울기값 \n",
    "beta_1 = 0.5 # 절편 값\n",
    "\n",
    "plt.scatter(X, Y) # (x, y) 점을 그립니다.\n",
    "plt.plot([0, 10], [beta_1, 10 * beta_0 + beta_1], c='r') # y = beta_0 * x + beta_1 에 해당하는 선을 그립니다.\n",
    "\n",
    "plt.xlim(0, 10) # 그래프의 X축을 설정합니다.\n",
    "plt.ylim(0, 10) # 그래프의 Y축을 설정합니다.\n",
    "\n",
    "\n",
    "plt.savefig(\"test.png\")"
   ]
  },
  {
   "cell_type": "markdown",
   "metadata": {},
   "source": [
    "### 모델의 학습 목표\n",
    "\n",
    "$Y = \\beta_0X + \\beta_1$\n",
    "\n",
    "**아이디어** : 완벽한 예측은 불가능하다.<br>\n",
    "각 데이터(X^i,Y^i)의 실제 값과 모델이 예측하는 값을 최소한으로 하자.\n",
    "\n",
    "회귀선과 실제 데이터의 차이를 축소해야한다."
   ]
  },
  {
   "cell_type": "markdown",
   "metadata": {},
   "source": [
    "i번째 데이터 $(x^i,y^i))$에 대해 :\n",
    "\n",
    "실제 값 : $y^i$<br>\n",
    "예측 값 : $\\beta_0x^i + \\beta_1$<br>\n",
    "\n"
   ]
  },
  {
   "cell_type": "markdown",
   "metadata": {},
   "source": [
    "### loss Function"
   ]
  },
  {
   "cell_type": "code",
   "execution_count": 17,
   "metadata": {},
   "outputs": [
    {
     "name": "stdout",
     "output_type": "stream",
     "text": [
      "Loss: 46.341726\n"
     ]
    },
    {
     "data": {
      "text/plain": [
       "(0, 10)"
      ]
     },
     "execution_count": 17,
     "metadata": {},
     "output_type": "execute_result"
    }
   ],
   "source": [
    "import matplotlib as mpl\n",
    "mpl.use(\"Agg\")\n",
    "import matplotlib.pyplot as plt\n",
    "import numpy as np\n",
    "\n",
    "# x : 실제 데이터의 x값\n",
    "# y : 실제 데이터의 y값\n",
    "# beta_0, beta_1 : 기울기, 절편\n",
    "def loss(x, y, beta_0, beta_1):\n",
    "    # 데이터의 개수 : x의 길이와 y의 길이가 동일해야 한다.\n",
    "    N = len(x)\n",
    "\n",
    "    total_loss = 0\n",
    "    # 최소제곱법 구현\n",
    "    for i in range(N) :\n",
    "        y_i = y[i] # 현재 y(i)\n",
    "        x_i = x[i] # 현재 x(i)\n",
    "        # 예측값 \n",
    "        y_predicted = beta_0 * x_i + beta_1\n",
    "        diff = (y_i - y_predicted) ** 2\n",
    "        total_loss += diff \n",
    "    return total_loss\n",
    "    # numpy를 사용해서 loss_function을 만들수도 있다.\n",
    "    #x = np.array(x)\n",
    "    #y = np.array(y)\n",
    "    #y_predicted = beta_0 * x + beta_1\n",
    "    #total_loss = np.sum((y - y_predicted)**2)\n",
    "    #\n",
    "    '''\n",
    "    x, y, beta_0, beta_1 을 이용해 loss값을 계산한 뒤 리턴합니다.\n",
    "    '''\n",
    "    \n",
    "    return 0\n",
    "\n",
    "X = [8.70153760, 3.90825773, 1.89362433, 3.28730045, 7.39333004, 2.98984649, 2.25757240, 9.84450732, 9.94589513, 5.48321616]\n",
    "Y = [5.64413093, 3.75876583, 3.87233310, 4.40990425, 6.43845020, 4.02827829, 2.26105955, 7.15768995, 6.29097441, 5.19692852]\n",
    "\n",
    "\n",
    "beta_0 = 1 # 기울기\n",
    "beta_1 = 0.5 # 절편\n",
    "\n",
    "print(\"Loss: %f\" % loss(X, Y, beta_0, beta_1))\n",
    "\n",
    "plt.scatter(X, Y) # (x, y) 점을 그립니다.\n",
    "plt.plot([0, 10], [beta_1, 10 * beta_0 + beta_1], c='r') # y = beta_0 * x + beta_1 에 해당하는 선을 그립니다.\n",
    "\n",
    "plt.xlim(0, 10) # 그래프의 X축을 설정합니다.\n",
    "plt.ylim(0, 10) # 그래프의 Y축을 설정합니다."
   ]
  },
  {
   "cell_type": "code",
   "execution_count": null,
   "metadata": {},
   "outputs": [],
   "source": []
  },
  {
   "cell_type": "code",
   "execution_count": null,
   "metadata": {},
   "outputs": [],
   "source": []
  },
  {
   "cell_type": "code",
   "execution_count": null,
   "metadata": {},
   "outputs": [],
   "source": []
  },
  {
   "cell_type": "code",
   "execution_count": null,
   "metadata": {},
   "outputs": [],
   "source": []
  },
  {
   "cell_type": "code",
   "execution_count": null,
   "metadata": {},
   "outputs": [],
   "source": []
  },
  {
   "cell_type": "code",
   "execution_count": null,
   "metadata": {},
   "outputs": [],
   "source": []
  }
 ],
 "metadata": {
  "kernelspec": {
   "display_name": "Python 3",
   "language": "python",
   "name": "python3"
  },
  "language_info": {
   "codemirror_mode": {
    "name": "ipython",
    "version": 3
   },
   "file_extension": ".py",
   "mimetype": "text/x-python",
   "name": "python",
   "nbconvert_exporter": "python",
   "pygments_lexer": "ipython3",
   "version": "3.7.3"
  }
 },
 "nbformat": 4,
 "nbformat_minor": 2
}
