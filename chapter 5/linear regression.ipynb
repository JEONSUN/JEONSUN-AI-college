{
 "cells": [
  {
   "cell_type": "markdown",
   "metadata": {},
   "source": [
    "### 회귀분석"
   ]
  },
  {
   "cell_type": "markdown",
   "metadata": {},
   "source": [
    "#### 단순선형회귀분석(simple linear regression)\n",
    "\n",
    "데이터를 가장 잘 설명하는 어떤 선을 찾는다.\n",
    "\n",
    "ex) 광고 분석과 판매량<br>\n",
    "광고에 얼마를 투자하면 상품이 얼마나 팔릴까?\n",
    "\n",
    "|fb(x1)|판매량(y)|\n",
    "|-----|----|\n",
    "|10.4|22.1|\n",
    "|....|...|\n",
    "\n",
    "N : 데이터의 개수 <br> \n",
    "X : input; 데이터/feature, \"광고료\"<br>\n",
    "Y : output; 해답/응답, \"판매량\"<br>\n",
    "(x^i,y^i) : i번째 데이터"
   ]
  },
  {
   "cell_type": "markdown",
   "metadata": {},
   "source": [
    "#### 문제 정의\n",
    "\n",
    "데이터 : N개의 FB 광고 예산(x)과 판매량(y)<br>\n",
    "목표 : 광고에 얼마를 투자했을 때 얼마나 팔릴까?\n",
    "\n",
    "\n",
    "광고 예산 -> **학습된 모델** -> 판매량\n",
    "\n",
    "**가정** : TV 광고 예산과 판매량은 **선형적** 관계를 가진다\n",
    "\n",
    "**$Y = \\beta_0X + \\beta_1$**"
   ]
  },
  {
   "cell_type": "code",
   "execution_count": 2,
   "metadata": {},
   "outputs": [],
   "source": [
    "# 라이브러리\n",
    "import matplotlib as mpl\n",
    "mpl.use(\"Agg\")\n",
    "import matplotlib.pyplot as plt\n",
    "import numpy as np\n",
    "\n",
    "# 데이터\n",
    "X = [8.70153760, 3.90825773, 1.89362433, 3.28730045, 7.39333004, 2.98984649, 2.25757240, 9.84450732, 9.94589513, 5.48321616]\n",
    "Y = [5.64413093, 3.75876583, 3.87233310, 4.40990425, 6.43845020, 4.02827829, 2.26105955, 7.15768995, 6.29097441, 5.19692852]\n",
    "\n",
    "'''\n",
    "beta_0과 beta_1 을 변경하면서 그래프에 표시되는 선을 확인해 봅니다.\n",
    "기울기와 절편의 의미를 이해합니다.\n",
    "'''\n",
    "\n",
    "beta_0 = 1   # 기울기값 \n",
    "beta_1 = 0.5 # 절편 값\n",
    "\n",
    "plt.scatter(X, Y) # (x, y) 점을 그립니다.\n",
    "plt.plot([0, 10], [beta_1, 10 * beta_0 + beta_1], c='r') # y = beta_0 * x + beta_1 에 해당하는 선을 그립니다.\n",
    "\n",
    "plt.xlim(0, 10) # 그래프의 X축을 설정합니다.\n",
    "plt.ylim(0, 10) # 그래프의 Y축을 설정합니다.\n",
    "\n",
    "\n",
    "plt.savefig(\"test.png\")"
   ]
  },
  {
   "cell_type": "markdown",
   "metadata": {},
   "source": [
    "### 모델의 학습 목표\n",
    "\n",
    "$Y = \\beta_0X + \\beta_1$\n",
    "\n",
    "**아이디어** : 완벽한 예측은 불가능하다.<br>\n",
    "각 데이터(X^i,Y^i)의 실제 값과 모델이 예측하는 값을 최소한으로 하자.\n",
    "\n",
    "회귀선과 실제 데이터의 차이를 축소해야한다."
   ]
  },
  {
   "cell_type": "markdown",
   "metadata": {},
   "source": [
    "i번째 데이터 $(x^i,y^i))$에 대해 :\n",
    "\n",
    "실제 값 : $y^i$<br>\n",
    "예측 값 : $\\beta_0x^i + \\beta_1$<br>\n",
    "\n"
   ]
  },
  {
   "cell_type": "markdown",
   "metadata": {},
   "source": [
    "### loss Function "
   ]
  },
  {
   "cell_type": "code",
   "execution_count": 17,
   "metadata": {},
   "outputs": [
    {
     "name": "stdout",
     "output_type": "stream",
     "text": [
      "Loss: 46.341726\n"
     ]
    },
    {
     "data": {
      "text/plain": [
       "(0, 10)"
      ]
     },
     "execution_count": 17,
     "metadata": {},
     "output_type": "execute_result"
    }
   ],
   "source": [
    "import matplotlib as mpl\n",
    "import matplotlib.pyplot as plt\n",
    "import numpy as np\n",
    "\n",
    "# x : 실제 데이터의 x값\n",
    "# y : 실제 데이터의 y값\n",
    "# beta_0, beta_1 : 기울기, 절편\n",
    "def loss(x, y, beta_0, beta_1):\n",
    "    # 데이터의 개수 : x의 길이와 y의 길이가 동일해야 한다.\n",
    "    N = len(x)\n",
    "\n",
    "    total_loss = 0\n",
    "    # loss_function 구현\n",
    "    for i in range(N) :\n",
    "        y_i = y[i] # 현재 y(i)\n",
    "        x_i = x[i] # 현재 x(i)\n",
    "        # 예측값 \n",
    "        y_predicted = beta_0 * x_i + beta_1\n",
    "        diff = (y_i - y_predicted) ** 2\n",
    "        total_loss += diff \n",
    "    return total_loss\n",
    "    # numpy를 사용해서 loss_function을 만들수도 있다.\n",
    "    #x = np.array(x)\n",
    "    #y = np.array(y)\n",
    "    #y_predicted = beta_0 * x + beta_1\n",
    "    #total_loss = np.sum((y - y_predicted)**2)\n",
    "    #\n",
    "    '''\n",
    "    x, y, beta_0, beta_1 을 이용해 loss값을 계산한 뒤 리턴합니다.\n",
    "    '''\n",
    "    \n",
    "    return 0\n",
    "\n",
    "X = [8.70153760, 3.90825773, 1.89362433, 3.28730045, 7.39333004, 2.98984649, 2.25757240, 9.84450732, 9.94589513, 5.48321616]\n",
    "Y = [5.64413093, 3.75876583, 3.87233310, 4.40990425, 6.43845020, 4.02827829, 2.26105955, 7.15768995, 6.29097441, 5.19692852]\n",
    "\n",
    "\n",
    "beta_0 = 1 # 기울기\n",
    "beta_1 = 0.5 # 절편\n",
    "\n",
    "print(\"Loss: %f\" % loss(X, Y, beta_0, beta_1))\n",
    "\n",
    "plt.scatter(X, Y) # (x, y) 점을 그립니다.\n",
    "plt.plot([0, 10], [beta_1, 10 * beta_0 + beta_1], c='r') # y = beta_0 * x + beta_1 에 해당하는 선을 그립니다.\n",
    "\n",
    "plt.xlim(0, 10) # 그래프의 X축을 설정합니다.\n",
    "plt.ylim(0, 10) # 그래프의 Y축을 설정합니다."
   ]
  },
  {
   "cell_type": "markdown",
   "metadata": {},
   "source": [
    "**loss function** : 가중치에 따라 오차가 얼마나 커지거나 작아지는지를 평가한다."
   ]
  },
  {
   "cell_type": "code",
   "execution_count": 4,
   "metadata": {},
   "outputs": [
    {
     "name": "stdout",
     "output_type": "stream",
     "text": [
      "beta_0: 0.430781\n",
      "beta_1: 2.506181\n",
      "Loss: 3.721640\n"
     ]
    }
   ],
   "source": [
    "import matplotlib as mpl\n",
    "import matplotlib.pyplot as plt\n",
    "import numpy as np\n",
    "from sklearn.linear_model import LinearRegression\n",
    "\n",
    "\n",
    "\n",
    "def loss(x, y, beta_0, beta_1):\n",
    "    N = len(x)\n",
    "    total_loss = 0\n",
    "    # loss_function 구현\n",
    "    for i in range(N) :\n",
    "        y_i = y[i] # 현재 y(i)\n",
    "        x_i = x[i] # 현재 x(i)\n",
    "        # 예측값 \n",
    "        y_predicted = beta_0 * x_i + beta_1\n",
    "        diff = (y_i - y_predicted) ** 2\n",
    "        total_loss += diff \n",
    "    return total_loss\n",
    "    '''\n",
    "    이전 실습에서 구현한 loss function을 여기에 붙여넣습니다.\n",
    "    '''\n",
    "    \n",
    "    return 0\n",
    "    \n",
    "X = [8.70153760, 3.90825773, 1.89362433, 3.28730045, 7.39333004, 2.98984649, 2.25757240, 9.84450732, 9.94589513, 5.48321616]\n",
    "Y = [5.64413093, 3.75876583, 3.87233310, 4.40990425, 6.43845020, 4.02827829, 2.26105955, 7.15768995, 6.29097441, 5.19692852]\n",
    "\n",
    "# -1을 reshape에 넣을 시 \"남은 차원으로부터 ~~하게 추정된다\" 라는 의미로 사용된다.\n",
    "# X는 하나의 종속변수 Y에 대한 여러 값을 가지므로 reshape(-1,1)을 적용하여 열벡터로 만든다.\n",
    "train_X = np.array(X).reshape(-1,1)\n",
    "\n",
    "# Y는 독립변수 x에 관한 값이므로 array형식으로 바꿔주기만 한다.\n",
    "train_Y = np.array(Y)\n",
    "\n",
    "\n",
    "'''\n",
    "여기에서 모델을 트레이닝합니다.\n",
    "'''\n",
    "lrmodel = LinearRegression()\n",
    "lrmodel.fit(train_X, train_Y)\n",
    "\n",
    "'''\n",
    "loss가 최소가 되는 직선의 기울기와 절편을 계산함\n",
    "'''\n",
    "beta_0 = lrmodel.coef_[0]   # lrmodel로 구한 직선의 기울기\n",
    "beta_1 = lrmodel.intercept_ # lrmodel로 구한 직선의 y절편\n",
    "\n",
    "print(\"beta_0: %f\" % beta_0)\n",
    "print(\"beta_1: %f\" % beta_1)\n",
    "print(\"Loss: %f\" % loss(X, Y, beta_0, beta_1))\n",
    "\n",
    "plt.scatter(X, Y) # (x, y) 점을 그립니다.\n",
    "plt.plot([0, 10], [beta_1, 10 * beta_0 + beta_1], c='r') # y = beta_0 * x + beta_1 에 해당하는 선을 그립니다.\n",
    "\n",
    "plt.xlim(0, 10) # 그래프의 X축을 설정합니다.\n",
    "plt.ylim(0, 10) # 그래프의 Y축을 설정합니다.\n",
    "plt.savefig(\"test.png\")\n"
   ]
  },
  {
   "cell_type": "markdown",
   "metadata": {},
   "source": [
    "### 다중선형회귀"
   ]
  },
  {
   "cell_type": "markdown",
   "metadata": {},
   "source": [
    "facebook 광고뿐만 아니라 TV및 신문 광고도 하기로 결정했다.<br>\n",
    "각 매체가 얼마나 효율적인지 알아내야 한다.\n",
    "\n",
    "\n",
    "|fb(x1)|tv(x2)|신문(x3)|판매량(Y)|\n",
    "|--|--|--|--|\n",
    "|230.1|37.8|69.2|22.1|\n",
    "|44.5|39.3|45.1|10.4|\n",
    "|...|...|...|...|\n",
    "\n",
    "fb에 44.5만원, tv에 39.3만원 신문에 45.1만원을 집행했을 때 10,400건의 판매를 기록했다.\n",
    "\n",
    "문제 : fb에 30만원, tv에 100만원, 신문에 50만원을 광고비에 집행했을 때 예상 판매량은 얼마인가?\n",
    "\n",
    "N : 데이터의 개수<Br>\n",
    "X : \"Input\"데이터/ Feature(광고료)<Br>\n",
    "- $X_1$ : FB광고료 <br>\n",
    "- $X_2$ : TV광고료 <br>\n",
    "- $X_3$ : 신문 광고료<br>\n",
    "\n",
    "Y : \"OUTPUT\"해답/응답(판매량)\n",
    "\n",
    "데이터 : N개의 FB,TV,신문 광고 예산과 판매량\n",
    "\n",
    "목표 : FB,TV,신문에 각각 얼마씩을 투자했을 때 얼마나 팔릴까\n",
    "\n",
    "가정 : 판매량은 FB,TV,신문 광고료와 선형적 관계\n",
    "\n",
    "$Y = \\beta_0X_1+\\beta_1X_2+\\beta_2X_3+\\beta_3$\n",
    "\n",
    "**loss funcion** =  (실제값 - 모델이 예측한값)^2을 모두 더한 값<br>\n",
    "->이 차이를 최소로 하는 $\\beta_0+\\beta_1+\\beta_2+\\beta_3$을 구하자"
   ]
  },
  {
   "cell_type": "code",
   "execution_count": 18,
   "metadata": {
    "scrolled": true
   },
   "outputs": [
    {
     "name": "stdout",
     "output_type": "stream",
     "text": [
      "<_csv.reader object at 0x000001F7C1C146C8>\n",
      "beta_0: 0.045765\n",
      "beta_1: 0.188530\n",
      "beta_2: -0.001037\n",
      "beta_3: 2.938889\n",
      "예상 판매량: 22.337954\n"
     ]
    }
   ],
   "source": [
    "import numpy as np\n",
    "from sklearn.linear_model import LinearRegression\n",
    "from sklearn.metrics import r2_score\n",
    "\n",
    "'''\n",
    "./data/Advertising.csv 에서 데이터를 읽어, X와 Y를 만듭니다.\n",
    "\n",
    "X는 (200, 3) 의 shape을 가진 2차원 np.array,\n",
    "Y는 (200,) 의 shape을 가진 1차원 np.array여야 합니다.\n",
    "\n",
    "X는 FB, TV, Newspaper column 에 해당하는 데이터를 저장해야 합니다.\n",
    "Y는 Sales column 에 해당하는 데이터를 저장해야 합니다.\n",
    "'''\n",
    "\n",
    "# csv 파일 읽어올때 사용.\n",
    "import csv\n",
    "# 파일 불러오기\n",
    "csvreader = csv.reader(open(\"D:\\Portfolio\\AI College\\chapter 5\\Advertising.csv\"))\n",
    "print(csvreader)\n",
    "# x와 y를 초기화\n",
    "x = []\n",
    "y = []\n",
    "\n",
    "# header 건너뛰기\n",
    "next(csvreader)\n",
    "\n",
    "# x와 y의 변수 추가\n",
    "for line in csvreader :\n",
    "    x_i = [ float(line[1]), float(line[2]), float(line[3]) ]\n",
    "    y_i = float(line[4])\n",
    "    x.append(x_i)\n",
    "    y.append(y_i)\n",
    "\n",
    "# X는 3개의 컬럼을 가진 array가 생성됨.\n",
    "X = np.array(x)\n",
    "Y = np.array(y)\n",
    "\n",
    "# 모델 설정\n",
    "lrmodel = LinearRegression()\n",
    "lrmodel.fit(X, Y)\n",
    "\n",
    "beta_0 = lrmodel.coef_[0] # 0번째 변수에 대한 계수 = 기울기 (페이스북)\n",
    "beta_1 = lrmodel.coef_[1] # 1번째 변수에 대한 계수 = 기울기 (TV)\n",
    "beta_2 = lrmodel.coef_[2] # 2번째 변수에 대한 계수 = 기울기 (신문)\n",
    "beta_3 = lrmodel.intercept_ # y절편 (기본 판매량)\n",
    "\n",
    "print(\"beta_0: %f\" % beta_0)\n",
    "print(\"beta_1: %f\" % beta_1)\n",
    "print(\"beta_2: %f\" % beta_2)\n",
    "print(\"beta_3: %f\" % beta_3)\n",
    "\n",
    "def expected_sales(fb, tv, newspaper, beta_0, beta_1, beta_2, beta_3):\n",
    "    '''\n",
    "    FB에 fb만큼, TV에 tv만큼, Newspaper에 newspaper 만큼의 광고비를 사용했고,\n",
    "    트레이닝된 모델의 weight 들이 beta_0, beta_1, beta_2, beta_3 일 때\n",
    "    예상되는 Sales 의 양을 출력합니다.\n",
    "    '''\n",
    "    sales = beta_0 * fb + beta_1* tv + beta_2 * newspaper + beta_3\n",
    "    \n",
    "    return sales\n",
    "\n",
    "print(\"예상 판매량: %f\" % expected_sales(12, 100, 3, beta_0, beta_1, beta_2, beta_3))"
   ]
  },
  {
   "cell_type": "markdown",
   "metadata": {},
   "source": [
    "beta_0: 0.045765<br>\n",
    "beta_1: 0.188530<br>\n",
    "beta_2: -0.001037<br>\n",
    "beta_3: 2.938889\n",
    "\n",
    "일 경우 광고 비를 1만큼 썼을때 FB는 0.045만큼 늘어나고 tv는 0.188만큼, 신문 광고는 -0.001이 줄어든다.\n",
    "\n",
    "기본 적으로 먹고가는 판매량은 2.93이다."
   ]
  },
  {
   "cell_type": "markdown",
   "metadata": {},
   "source": [
    "### 다항식 회귀분석\n",
    "\n",
    "단순한 선형회귀법은 데이터를 잘 설명하지 못한다.\n",
    "\n"
   ]
  },
  {
   "cell_type": "code",
   "execution_count": 106,
   "metadata": {},
   "outputs": [
    {
     "name": "stdout",
     "output_type": "stream",
     "text": [
      "<_csv.reader object at 0x000001F7C3EF8A08>\n",
      "MSE on train data: 4.589288715884171\n",
      "MSE on test data: 7.356365735074993\n"
     ]
    }
   ],
   "source": [
    "import numpy as np\n",
    "from sklearn.linear_model import LinearRegression\n",
    "from sklearn.metrics import mean_squared_error\n",
    "from sklearn.model_selection import train_test_split\n",
    "\n",
    "'''\n",
    "./data/Advertising.csv 에서 데이터를 읽어, X와 Y를 만듭니다.\n",
    "\n",
    "X는 (200, 3) 의 shape을 가진 2차원 np.array,\n",
    "Y는 (200,) 의 shape을 가진 1차원 np.array여야 합니다.\n",
    "\n",
    "X는 FB, TV, Newspaper column 에 해당하는 데이터를 저장해야 합니다.\n",
    "Y는 Sales column 에 해당하는 데이터를 저장해야 합니다.\n",
    "\n",
    "'''\n",
    "import csv\n",
    "# 파일 불러오기\n",
    "csvreader = csv.reader(open(\"D:\\Portfolio\\AI College\\chapter 5\\Advertising.csv\"))\n",
    "print(csvreader)\n",
    "# x와 y를 초기화\n",
    "x = []\n",
    "y = []\n",
    "\n",
    "# header 건너뛰기\n",
    "next(csvreader)\n",
    "\n",
    "for line in csvreader :\n",
    "    x_i = [ float(line[1]), float(line[2]), float(line[3]) ]\n",
    "    y_i = float(line[4])\n",
    "    x.append(x_i)\n",
    "    y.append(y_i)\n",
    "\n",
    "# X는 3개의 컬럼을 가진 array가 생성됨.\n",
    "X = np.array(x)\n",
    "Y = np.array(y)\n",
    "\n",
    "\n",
    "# 다항식 회귀분석을 진행하기 위해 변수들을 조합합니다.\n",
    "X_poly = []\n",
    "for x_i in X:\n",
    "    X_poly.append([\n",
    "        x_i[0] ** 2, # X_1^2\n",
    "        x_i[1], # X_2\n",
    "        x_i[1] * x_i[2], # X_2 * X_3\n",
    "        x_i[2] # X_3\n",
    "    ])\n",
    "    \n",
    "    \n",
    "X = np.array(X_poly)\n",
    "\n",
    "\n",
    "\n",
    "\n",
    "# X, Y를 80:20으로 나눕니다. 80%는 트레이닝 데이터, 20%는 테스트 데이터입니다.\n",
    "x_train, x_test, y_train, y_test = train_test_split(X_poly, Y, test_size=0.2, random_state=0)\n",
    "\n",
    "# x_train, y_train에 대해 다항식 회귀분석을 진행합니다.\n",
    "lrmodel = LinearRegression()\n",
    "lrmodel.fit(x_train, y_train)\n",
    "\n",
    "#x_train에 대해, 만든 회귀모델의 예측값을 구하고, 이 값과 y_train 의 차이를 이용해 MSE를 구합니다.\n",
    "predicted_y_train = lrmodel.predict(x_train)\n",
    "mse_train = mean_squared_error(y_train, predicted_y_train)\n",
    "print(\"MSE on train data: {}\".format(mse_train))\n",
    "\n",
    "# x_test에 대해, 만든 회귀모델의 예측값을 구하고, 이 값과 y_test 의 차이를 이용해 MSE를 구합니다. 이 값이 1 미만이 되도록 모델을 구성해 봅니다.\n",
    "predicted_y_test = lrmodel.predict(x_test)\n",
    "mse_test = mean_squared_error(y_test, predicted_y_test)\n",
    "print(\"MSE on test data: {}\".format(mse_test))"
   ]
  },
  {
   "cell_type": "code",
   "execution_count": null,
   "metadata": {},
   "outputs": [],
   "source": []
  },
  {
   "cell_type": "code",
   "execution_count": null,
   "metadata": {},
   "outputs": [],
   "source": []
  }
 ],
 "metadata": {
  "kernelspec": {
   "display_name": "Python 3",
   "language": "python",
   "name": "python3"
  },
  "language_info": {
   "codemirror_mode": {
    "name": "ipython",
    "version": 3
   },
   "file_extension": ".py",
   "mimetype": "text/x-python",
   "name": "python",
   "nbconvert_exporter": "python",
   "pygments_lexer": "ipython3",
   "version": "3.7.3"
  }
 },
 "nbformat": 4,
 "nbformat_minor": 2
}
