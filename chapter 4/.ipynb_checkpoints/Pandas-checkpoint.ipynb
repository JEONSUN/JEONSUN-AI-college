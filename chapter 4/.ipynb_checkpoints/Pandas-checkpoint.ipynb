{
 "cells": [
  {
   "cell_type": "markdown",
   "metadata": {},
   "source": [
    "## Pandas\n",
    "\n",
    "- 구조화된 데이터를 효과적으로 처리하고 저장할 수 있는 파이썬 라이브러리."
   ]
  },
  {
   "cell_type": "markdown",
   "metadata": {},
   "source": [
    "### Series\n",
    "\n",
    "- numpy array가 보강된 형태 data와 index를 가지고 있다."
   ]
  },
  {
   "cell_type": "code",
   "execution_count": 1,
   "metadata": {},
   "outputs": [
    {
     "data": {
      "text/plain": [
       "0    1\n",
       "1    2\n",
       "2    3\n",
       "3    4\n",
       "dtype: int64"
      ]
     },
     "execution_count": 1,
     "metadata": {},
     "output_type": "execute_result"
    }
   ],
   "source": [
    "# pandas 호출\n",
    "import pandas as pd"
   ]
  },
  {
   "cell_type": "code",
   "execution_count": 2,
   "metadata": {},
   "outputs": [
    {
     "data": {
      "text/plain": [
       "0    1\n",
       "1    2\n",
       "2    3\n",
       "3    4\n",
       "dtype: int64"
      ]
     },
     "execution_count": 2,
     "metadata": {},
     "output_type": "execute_result"
    }
   ],
   "source": [
    "# numpy에 index가 추가된 형태\n",
    "data = pd.Series([1,2,3,4])\n",
    "data"
   ]
  },
  {
   "cell_type": "markdown",
   "metadata": {},
   "source": [
    "인덱스를 가지고 있고 인덱스로 접근이 가능하다."
   ]
  },
  {
   "cell_type": "code",
   "execution_count": 6,
   "metadata": {},
   "outputs": [
    {
     "name": "stdout",
     "output_type": "stream",
     "text": [
      "a    1\n",
      "b    2\n",
      "c    3\n",
      "d    4\n",
      "dtype: int64\n"
     ]
    },
    {
     "data": {
      "text/plain": [
       "2"
      ]
     },
     "execution_count": 6,
     "metadata": {},
     "output_type": "execute_result"
    }
   ],
   "source": [
    "# 'b'의 인덱스\n",
    "data = pd.Series([1,2,3,4], index = ['a','b','c','d'])\n",
    "print(data)\n",
    "data['b']"
   ]
  },
  {
   "cell_type": "markdown",
   "metadata": {},
   "source": [
    "Series를 딕셔너리로 만들 수 있다."
   ]
  },
  {
   "cell_type": "code",
   "execution_count": 11,
   "metadata": {},
   "outputs": [
    {
     "name": "stdout",
     "output_type": "stream",
     "text": [
      "[  5180  12718 141500  32676]\n",
      "Index(['korea', 'japan', 'china', 'usa'], dtype='object')\n"
     ]
    }
   ],
   "source": [
    "population_dict = {\n",
    "    'korea' : 5180,\n",
    "    'japan' : 12718,\n",
    "    'china' : 141500,\n",
    "    'usa' : 32676,\n",
    "}\n",
    "\n",
    "population = pd.Series(population_dict)\n",
    "\n",
    "# values 확인\n",
    "print(population.values)\n",
    "print(population.index)"
   ]
  },
  {
   "cell_type": "markdown",
   "metadata": {},
   "source": [
    "### DataFrame\n",
    "\n",
    "- 여러 개의 Series가 모여서 행과 열을 이룬 데이터"
   ]
  },
  {
   "cell_type": "code",
   "execution_count": 18,
   "metadata": {},
   "outputs": [
    {
     "name": "stdout",
     "output_type": "stream",
     "text": [
      "       population         gdp\n",
      "korea        5180    16932000\n",
      "japan       12718    51670000\n",
      "china      141500  1409250000\n",
      "usa         32676  2041280000\n"
     ]
    }
   ],
   "source": [
    "# 국가가 index, population이 values\n",
    "gdp_dict = {\n",
    "    'korea' : 16932000,\n",
    "    'japan' : 51670000,\n",
    "    'china' : 1409250000,\n",
    "    'usa' : 2041280000,\n",
    "}\n",
    "\n",
    "gdp = pd.Series(gdp_dict)\n",
    "country = pd.DataFrame({\n",
    "    'population' : population,\n",
    "    'gdp' : gdp\n",
    "    \n",
    "})\n",
    "\n",
    "print(country)"
   ]
  },
  {
   "cell_type": "code",
   "execution_count": 16,
   "metadata": {},
   "outputs": [
    {
     "data": {
      "text/plain": [
       "Index(['korea', 'japan', 'china', 'usa'], dtype='object')"
      ]
     },
     "execution_count": 16,
     "metadata": {},
     "output_type": "execute_result"
    }
   ],
   "source": [
    "# country의 인덱스 확인\n",
    "country.index"
   ]
  },
  {
   "cell_type": "code",
   "execution_count": 17,
   "metadata": {},
   "outputs": [
    {
     "data": {
      "text/plain": [
       "Index(['population', 'gdp'], dtype='object')"
      ]
     },
     "execution_count": 17,
     "metadata": {},
     "output_type": "execute_result"
    }
   ],
   "source": [
    "# 컬럼 명 확인\n",
    "country.columns"
   ]
  },
  {
   "cell_type": "code",
   "execution_count": 19,
   "metadata": {},
   "outputs": [
    {
     "data": {
      "text/plain": [
       "korea      16932000\n",
       "japan      51670000\n",
       "china    1409250000\n",
       "usa      2041280000\n",
       "Name: gdp, dtype: int64"
      ]
     },
     "execution_count": 19,
     "metadata": {},
     "output_type": "execute_result"
    }
   ],
   "source": [
    "# series 형태로 나온다.\n",
    "country['gdp']"
   ]
  },
  {
   "cell_type": "markdown",
   "metadata": {},
   "source": [
    "series도 numpy array처럼 연산자를 쓸 수 있다."
   ]
  },
  {
   "cell_type": "code",
   "execution_count": 23,
   "metadata": {},
   "outputs": [
    {
     "name": "stdout",
     "output_type": "stream",
     "text": [
      "       population         gdp  gdp_per_capita\n",
      "korea        5180    16932000     3268.725869\n",
      "japan       12718    51670000     4062.745715\n",
      "china      141500  1409250000     9959.363958\n",
      "usa         32676  2041280000    62470.314604\n"
     ]
    }
   ],
   "source": [
    "# gdp에서 population을 나눈값을 coumtry 변수에 생성\n",
    "gdp_per_capita = country['gdp']/country['population']\n",
    "country['gdp per capita'] = gdp_per_capita\n",
    "\n",
    "print(country)"
   ]
  },
  {
   "cell_type": "markdown",
   "metadata": {},
   "source": [
    "### 인덱싱/슬라이싱\n",
    "\n",
    "**loc** : 명시적인 인덱스를 참조하는 인덱싱/슬라이싱"
   ]
  },
  {
   "cell_type": "code",
   "execution_count": 25,
   "metadata": {},
   "outputs": [
    {
     "data": {
      "text/plain": [
       "population        1.415000e+05\n",
       "gdp               1.409250e+09\n",
       "gdp_per_capita    9.959364e+03\n",
       "Name: china, dtype: float64"
      ]
     },
     "execution_count": 25,
     "metadata": {},
     "output_type": "execute_result"
    }
   ],
   "source": [
    "# china 값 인덱싱\n",
    "country.loc['china']"
   ]
  },
  {
   "cell_type": "code",
   "execution_count": 33,
   "metadata": {
    "scrolled": true
   },
   "outputs": [
    {
     "data": {
      "text/html": [
       "<div>\n",
       "<style scoped>\n",
       "    .dataframe tbody tr th:only-of-type {\n",
       "        vertical-align: middle;\n",
       "    }\n",
       "\n",
       "    .dataframe tbody tr th {\n",
       "        vertical-align: top;\n",
       "    }\n",
       "\n",
       "    .dataframe thead th {\n",
       "        text-align: right;\n",
       "    }\n",
       "</style>\n",
       "<table border=\"1\" class=\"dataframe\">\n",
       "  <thead>\n",
       "    <tr style=\"text-align: right;\">\n",
       "      <th></th>\n",
       "      <th>population</th>\n",
       "      <th>gdp</th>\n",
       "    </tr>\n",
       "  </thead>\n",
       "  <tbody>\n",
       "    <tr>\n",
       "      <th>korea</th>\n",
       "      <td>5180</td>\n",
       "      <td>16932000</td>\n",
       "    </tr>\n",
       "    <tr>\n",
       "      <th>japan</th>\n",
       "      <td>12718</td>\n",
       "      <td>51670000</td>\n",
       "    </tr>\n",
       "    <tr>\n",
       "      <th>china</th>\n",
       "      <td>141500</td>\n",
       "      <td>1409250000</td>\n",
       "    </tr>\n",
       "  </tbody>\n",
       "</table>\n",
       "</div>"
      ],
      "text/plain": [
       "       population         gdp\n",
       "korea        5180    16932000\n",
       "japan       12718    51670000\n",
       "china      141500  1409250000"
      ]
     },
     "execution_count": 33,
     "metadata": {},
     "output_type": "execute_result"
    }
   ],
   "source": [
    "# 슬라이싱을 하되, population 이전의 값을 추출\n",
    "country.loc['korea': 'china', : 'gdp']"
   ]
  },
  {
   "cell_type": "markdown",
   "metadata": {},
   "source": [
    "**iloc** : 파이썬 스타일 정수 인덱스, 인덱싱/슬라이싱"
   ]
  },
  {
   "cell_type": "code",
   "execution_count": 34,
   "metadata": {},
   "outputs": [
    {
     "data": {
      "text/plain": [
       "population        5.180000e+03\n",
       "gdp               1.693200e+07\n",
       "gdp_per_capita    3.268726e+03\n",
       "Name: korea, dtype: float64"
      ]
     },
     "execution_count": 34,
     "metadata": {},
     "output_type": "execute_result"
    }
   ],
   "source": [
    "# 앞에서부터 숫자를 매겨 인덱싱을 하게함.\n",
    "country.iloc[0]"
   ]
  },
  {
   "cell_type": "code",
   "execution_count": 35,
   "metadata": {},
   "outputs": [
    {
     "data": {
      "text/html": [
       "<div>\n",
       "<style scoped>\n",
       "    .dataframe tbody tr th:only-of-type {\n",
       "        vertical-align: middle;\n",
       "    }\n",
       "\n",
       "    .dataframe tbody tr th {\n",
       "        vertical-align: top;\n",
       "    }\n",
       "\n",
       "    .dataframe thead th {\n",
       "        text-align: right;\n",
       "    }\n",
       "</style>\n",
       "<table border=\"1\" class=\"dataframe\">\n",
       "  <thead>\n",
       "    <tr style=\"text-align: right;\">\n",
       "      <th></th>\n",
       "      <th>population</th>\n",
       "      <th>gdp</th>\n",
       "    </tr>\n",
       "  </thead>\n",
       "  <tbody>\n",
       "    <tr>\n",
       "      <th>japan</th>\n",
       "      <td>12718</td>\n",
       "      <td>51670000</td>\n",
       "    </tr>\n",
       "    <tr>\n",
       "      <th>china</th>\n",
       "      <td>141500</td>\n",
       "      <td>1409250000</td>\n",
       "    </tr>\n",
       "  </tbody>\n",
       "</table>\n",
       "</div>"
      ],
      "text/plain": [
       "       population         gdp\n",
       "japan       12718    51670000\n",
       "china      141500  1409250000"
      ]
     },
     "execution_count": 35,
     "metadata": {},
     "output_type": "execute_result"
    }
   ],
   "source": [
    "# 1부터 2번째 인덱스 값을 뽑되 2열 이전의 값만 뽑아냄.\n",
    "country.iloc[1:3,:2]"
   ]
  },
  {
   "cell_type": "markdown",
   "metadata": {},
   "source": [
    "### dataFrame 새 데이터 추가/수정"
   ]
  },
  {
   "cell_type": "code",
   "execution_count": 44,
   "metadata": {},
   "outputs": [
    {
     "name": "stdout",
     "output_type": "stream",
     "text": [
      "    이름  나이  주소\n",
      "0  정국영  25  시흥\n",
      "1   영희  25  인천\n"
     ]
    }
   ],
   "source": [
    "# 리스트로 추가하는 방법\n",
    "dataframe = pd.DataFrame(columns = ['이름','나이','주소'])\n",
    "dataframe.loc[0] = ['정국영', '25', '시흥']\n",
    "dataframe.loc[1] = {'이름' : '철수', '나이' : '25', '주소' : '인천'}\n",
    "\n",
    "dataframe.loc[1,'이름']  = '영희'\n",
    "\n",
    "print(dataframe)"
   ]
  },
  {
   "cell_type": "markdown",
   "metadata": {},
   "source": [
    "### dataframe 새 컬럼 추가"
   ]
  },
  {
   "cell_type": "code",
   "execution_count": 47,
   "metadata": {},
   "outputs": [
    {
     "name": "stdout",
     "output_type": "stream",
     "text": [
      "    이름  나이  주소         전화번호\n",
      "0  정국영  25  시흥  01012341234\n",
      "1   영희  25  인천          NaN\n"
     ]
    },
    {
     "data": {
      "text/plain": [
       "2"
      ]
     },
     "execution_count": 47,
     "metadata": {},
     "output_type": "execute_result"
    }
   ],
   "source": [
    "import numpy as np\n",
    "dataframe['전화번호']  = np.nan\n",
    "dataframe.loc[0,'전화번호'] = '01012341234'\n",
    "print(dataframe)\n",
    "len(dataframe)"
   ]
  },
  {
   "cell_type": "markdown",
   "metadata": {},
   "source": [
    "### 컬럼 선택하기\n",
    "\n",
    "- 컬럼 이름이 하나만 있다면 **Series**\n",
    "\n",
    "- 리스트로 들어가 있다면 **DataFrame**"
   ]
  },
  {
   "cell_type": "code",
   "execution_count": 48,
   "metadata": {},
   "outputs": [
    {
     "name": "stdout",
     "output_type": "stream",
     "text": [
      "0    정국영\n",
      "1     영희\n",
      "Name: 이름, dtype: object\n",
      "    이름  주소  나이\n",
      "0  정국영  시흥  25\n",
      "1   영희  인천  25\n"
     ]
    }
   ],
   "source": [
    "print(dataframe['이름'])\n",
    "print(dataframe[['이름','주소','나이']])"
   ]
  },
  {
   "cell_type": "code",
   "execution_count": null,
   "metadata": {},
   "outputs": [],
   "source": []
  },
  {
   "cell_type": "code",
   "execution_count": null,
   "metadata": {},
   "outputs": [],
   "source": []
  }
 ],
 "metadata": {
  "kernelspec": {
   "display_name": "Python 3",
   "language": "python",
   "name": "python3"
  },
  "language_info": {
   "codemirror_mode": {
    "name": "ipython",
    "version": 3
   },
   "file_extension": ".py",
   "mimetype": "text/x-python",
   "name": "python",
   "nbconvert_exporter": "python",
   "pygments_lexer": "ipython3",
   "version": "3.7.3"
  }
 },
 "nbformat": 4,
 "nbformat_minor": 2
}
